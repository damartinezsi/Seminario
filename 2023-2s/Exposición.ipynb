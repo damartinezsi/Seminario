{
  "cells": [
    {
      "cell_type": "markdown",
      "metadata": {
        "id": "giF4i9KXfPop"
      },
      "source": [
        "###**Directorio de trabajo**"
      ]
    },
    {
      "cell_type": "code",
      "execution_count": null,
      "metadata": {
        "colab": {
          "base_uri": "https://localhost:8080/"
        },
        "id": "bvzG0zrWfmoc",
        "outputId": "0906d851-937b-4792-8f47-e0bec84d80e4"
      },
      "outputs": [
        {
          "output_type": "stream",
          "name": "stdout",
          "text": [
            "Drive already mounted at /content/gdrive; to attempt to forcibly remount, call drive.mount(\"/content/gdrive\", force_remount=True).\n"
          ]
        }
      ],
      "source": [
        "from google.colab import drive\n",
        "drive.mount('/content/gdrive')\n",
        "\n",
        "ruta= '/content/gdrive/Shareddrives/Seminario Posgrado/2023-2S'"
      ]
    },
    {
      "cell_type": "markdown",
      "metadata": {
        "id": "wWnKRzYBfQbJ"
      },
      "source": [
        "###**Librerias**"
      ]
    },
    {
      "cell_type": "code",
      "execution_count": null,
      "metadata": {
        "id": "MBsMWQKQfDvg",
        "colab": {
          "base_uri": "https://localhost:8080/"
        },
        "outputId": "313df031-b6d6-43e7-c800-13f44241c1d9"
      },
      "outputs": [
        {
          "output_type": "stream",
          "name": "stdout",
          "text": [
            "Requirement already satisfied: deap in /usr/local/lib/python3.10/dist-packages (1.4.1)\n",
            "Requirement already satisfied: numpy in /usr/local/lib/python3.10/dist-packages (from deap) (1.23.5)\n"
          ]
        }
      ],
      "source": [
        "import numpy as np\n",
        "import matplotlib.pyplot as plt\n",
        "import pandas as pd\n",
        "import scipy as sp\n",
        "from statsmodels.tsa.seasonal import seasonal_decompose\n",
        "import statsmodels.api as sm\n",
        "from sklearn.svm import SVC\n",
        "from sklearn.preprocessing import MinMaxScaler\n",
        "from sklearn.model_selection import GridSearchCV, TimeSeriesSplit\n",
        "import tensorflow.keras as keras\n",
        "import warnings\n",
        "import random\n",
        "import numpy as np\n",
        "!pip install deap\n",
        "from deap import base, creator, tools, algorithms\n",
        "from sklearn.model_selection import train_test_split\n",
        "from sklearn.linear_model import LogisticRegression\n",
        "from sklearn.metrics import mean_squared_error"
      ]
    },
    {
      "cell_type": "markdown",
      "metadata": {
        "id": "Dcrg00wDHQ7j"
      },
      "source": [
        "#**<center>Base Pequeña (699 registros) </center>**"
      ]
    },
    {
      "cell_type": "markdown",
      "metadata": {
        "id": "njvSZcvtlMLY"
      },
      "source": [
        "## **Importación de datos**"
      ]
    },
    {
      "cell_type": "code",
      "execution_count": null,
      "metadata": {
        "id": "utHnk0qf2wPs"
      },
      "outputs": [],
      "source": [
        "Wisconsin=pd.read_excel(\"/content/gdrive/Shareddrives/Seminario Posgrado/2023-2S/CancerWisconsin.xlsx\")\n",
        "\n",
        "y=Wisconsin[\"Class\"]\n",
        "y=np.array(y)\n",
        "x=Wisconsin.drop(['Class'], axis=1)\n",
        "a = np.array(x)\n"
      ]
    },
    {
      "cell_type": "markdown",
      "metadata": {
        "id": "oN2Q__qkpJ-J"
      },
      "source": [
        "##**Algoritmo genético**"
      ]
    },
    {
      "cell_type": "code",
      "execution_count": null,
      "metadata": {
        "colab": {
          "base_uri": "https://localhost:8080/"
        },
        "id": "QnIfx5BNaZmY",
        "outputId": "4798360d-fd26-4b49-d535-9be3a8fab3dc"
      },
      "outputs": [
        {
          "name": "stdout",
          "output_type": "stream",
          "text": [
            "Requirement already satisfied: deap in /usr/local/lib/python3.10/dist-packages (1.4.1)\n",
            "Requirement already satisfied: numpy in /usr/local/lib/python3.10/dist-packages (from deap) (1.23.5)\n"
          ]
        },
        {
          "name": "stderr",
          "output_type": "stream",
          "text": [
            "/usr/local/lib/python3.10/dist-packages/deap/creator.py:185: RuntimeWarning: A class named 'FitnessMin' has already been created and it will be overwritten. Consider deleting previous creation of that class or rename it.\n",
            "  warnings.warn(\"A class named '{0}' has already been created and it \"\n",
            "/usr/local/lib/python3.10/dist-packages/deap/creator.py:185: RuntimeWarning: A class named 'Individual' has already been created and it will be overwritten. Consider deleting previous creation of that class or rename it.\n",
            "  warnings.warn(\"A class named '{0}' has already been created and it \"\n"
          ]
        },
        {
          "name": "stdout",
          "output_type": "stream",
          "text": [
            "\n",
            " El algortimo genético entregó las mejores características en  69.4695 segundos \n",
            "\n",
            "Mejor conjunto de variables explicativas: [2, 3, 4, 6]\n"
          ]
        }
      ],
      "source": [
        "import random\n",
        "import numpy as np\n",
        "!pip install deap\n",
        "from deap import base, creator, tools, algorithms\n",
        "from sklearn.model_selection import train_test_split\n",
        "from sklearn.linear_model import LogisticRegression\n",
        "from sklearn.metrics import mean_squared_error\n",
        "import time\n",
        "\n",
        "\n",
        "#Tambíen veremos el tiempo de ejecución\n",
        "inicio = time.time()\n",
        "\n",
        "# Genera datos de ejemplo (reemplaza esto con tus propios datos)\n",
        "y=np.array(y)\n",
        "x2=Wisconsin.drop(['Class'], axis=1)\n",
        "n_features=7\n",
        "\n",
        "\n",
        "# Divide los datos en conjuntos de entrenamiento y prueba\n",
        "x2_train, x2_test, y_train, y_test = train_test_split(x2, y)\n",
        "\n",
        "# Define la función de aptitud\n",
        "def fitness(individual):\n",
        "    # individual es una lista de 0s y 1s que representan las variables explicativas seleccionadas\n",
        "    selected_features = [i for i, select in enumerate(individual) if select]\n",
        "\n",
        "    if not selected_features:\n",
        "        return float(\"inf\"),  # Si no se seleccionan variables, devolvemos un valor alto de MSE\n",
        "\n",
        "    # Selecciona las columnas correspondientes a las variables seleccionadas\n",
        "\n",
        "    # Convierte los DataFrames de Pandas en matrices NumPy\n",
        "    x2_train_np = x2_train.to_numpy()\n",
        "    x2_test_np = x2_test.to_numpy()\n",
        "\n",
        "\n",
        "    x2_train_selected = x2_train_np[:, selected_features]\n",
        "    x2_test_selected = x2_test_np[:, selected_features]\n",
        "\n",
        "    # Entrena un modelo de regresión logística\n",
        "    model = LogisticRegression()\n",
        "    model.fit(x2_train_selected, y_train)\n",
        "\n",
        "    # Realiza predicciones en el conjunto de prueba\n",
        "    y_pred = model.predict(x2_test_selected)\n",
        "\n",
        "    # Calcula el error cuadrático medio (MSE)\n",
        "    mse = mean_squared_error(y_test, y_pred)\n",
        "\n",
        "    return mse,\n",
        "\n",
        "# Configura DEAP\n",
        "creator.create(\"FitnessMin\", base.Fitness, weights=(-1.0,))\n",
        "creator.create(\"Individual\", list, fitness=creator.FitnessMin)\n",
        "\n",
        "toolbox = base.Toolbox()\n",
        "toolbox.register(\"attr_bool\", random.randint, 0, 1)  # Variables explicativas seleccionadas (0 o 1)\n",
        "toolbox.register(\"individual\", tools.initRepeat, creator.Individual, toolbox.attr_bool, n_features)\n",
        "toolbox.register(\"population\", tools.initRepeat, list, toolbox.individual)\n",
        "\n",
        "toolbox.register(\"evaluate\", fitness)\n",
        "toolbox.register(\"mate\", tools.cxTwoPoint)\n",
        "toolbox.register(\"mutate\", tools.mutFlipBit, indpb=0.05)\n",
        "toolbox.register(\"select\", tools.selTournament, tournsize=3)\n",
        "\n",
        "# Crea una población inicial\n",
        "population = toolbox.population(n=50)\n",
        "\n",
        "# Ejecuta el algoritmo genético\n",
        "n_generations = 500\n",
        "for generation in range(n_generations):\n",
        "    offspring = algorithms.varAnd(population, toolbox, cxpb=0.7, mutpb=0.2)\n",
        "    fits = toolbox.map(toolbox.evaluate, offspring)\n",
        "    for fit, ind in zip(fits, offspring):\n",
        "        ind.fitness.values = fit\n",
        "    population = toolbox.select(offspring, k=len(population))\n",
        "\n",
        "# Obtiene el mejor individuo\n",
        "best_individual = tools.selBest(population, k=1)[0]\n",
        "best_features = [i for i, select in enumerate(best_individual) if select]\n",
        "\n",
        "fin = time.time()\n",
        "print('\\n El algortimo genético entregó las mejores características en ',round(fin-inicio,4),'segundos \\n')\n",
        "\n",
        "print(\"Mejor conjunto de variables explicativas:\", best_features)"
      ]
    },
    {
      "cell_type": "markdown",
      "metadata": {
        "id": "VuMNTUzdl7tm"
      },
      "source": [
        "##**Configuramos los modelos**"
      ]
    },
    {
      "cell_type": "markdown",
      "metadata": {
        "id": "84aj59SPrySt"
      },
      "source": [
        "### **Primero usamos todas las variables**"
      ]
    },
    {
      "cell_type": "code",
      "execution_count": null,
      "metadata": {
        "id": "ajKFepPKzDuE"
      },
      "outputs": [],
      "source": [
        "# LLamamos nuevamente al conjuto de datos\n",
        "y=Wisconsin[\"Class\"]\n",
        "y=np.array(y)\n",
        "x=Wisconsin.drop(['Class'], axis=1)\n",
        "a = np.array(x)\n",
        "\n",
        "# Escalamos los datos para poder trabajar con ellos\n",
        "scaler = MinMaxScaler()\n",
        "scaler.fit(x)\n",
        "x2=scaler.transform(x)\n",
        "\n",
        "# Creamos los modelos con cada uno de los Kernel seleccionados\n",
        "clf_lin = SVC(kernel='linear', max_iter=-1)\n",
        "clf_poly = SVC(kernel='poly', max_iter=-1)\n",
        "clf_rad = SVC(kernel='rbf', max_iter=-1)\n",
        "clf_sig = SVC(kernel='sigmoid', max_iter=-1)\n",
        "\n",
        "# Ajustamos los modelos con los datos seleccionados y hallamos las predicciones, así como las diferencias entre el ajuste del modelo y los valores reales\n",
        "inicio_lin = time.time()\n",
        "clf_lin.fit(x2, y)\n",
        "pred_lin=clf_lin.predict(x2)\n",
        "dif_lin=(pred_lin-y)\n",
        "fin_lin = time.time()\n",
        "\n",
        "inicio_poly = time.time()\n",
        "clf_poly.fit(x2, y)\n",
        "pred_poly=clf_poly.predict(x2)\n",
        "dif_poly=(pred_poly-y)\n",
        "fin_poly = time.time()\n",
        "\n",
        "inicio_rad = time.time()\n",
        "clf_rad.fit(x2, y)\n",
        "pred_rad=clf_rad.predict(x2)\n",
        "dif_rad=(pred_rad-y)\n",
        "fin_rad = time.time()\n",
        "\n",
        "inicio_sig = time.time()\n",
        "clf_sig.fit(x2, y)\n",
        "pred_sig=clf_sig.predict(x2)\n",
        "dif_sig=(pred_sig-y)\n",
        "fin_sig = time.time()\n"
      ]
    },
    {
      "cell_type": "markdown",
      "metadata": {
        "id": "fhGzolJJp1Uu"
      },
      "source": [
        "###**Configuramos los modelos con las variables recomendadas por el Algoritmo genético**"
      ]
    },
    {
      "cell_type": "code",
      "execution_count": null,
      "metadata": {
        "id": "BsIIo9W-p1C-"
      },
      "outputs": [],
      "source": [
        "# LLamamos nuevamente al conjuto de datos\n",
        "y=Wisconsin[\"Class\"]\n",
        "y=np.array(y)\n",
        "x=Wisconsin.drop(['Class'], axis=1)\n",
        "columnas_seleccionadas = [2, 3, 4, 6]\n",
        "\n",
        "# Utiliza .iloc para seleccionar las columnas por índice\n",
        "x=x2[:, columnas_seleccionadas]\n",
        "a = np.array(x)\n",
        "\n",
        "# Escalamos los datos para poder trabajar con ellos\n",
        "scaler = MinMaxScaler()\n",
        "scaler.fit(x)\n",
        "x2=scaler.transform(x)\n",
        "\n",
        "# Creamos los modelos con cada uno de los Kernel seleccionados\n",
        "clf_lin_AG = SVC(kernel='linear', max_iter=-1)\n",
        "clf_poly_AG = SVC(kernel='poly', max_iter=-1)\n",
        "clf_rad_AG = SVC(kernel='rbf', max_iter=-1)\n",
        "clf_sig_AG = SVC(kernel='sigmoid', max_iter=-1)\n",
        "\n",
        "\n",
        "# Ajustamos los modelos con los datos seleccionados y hallamos las predicciones, así como las diferencias entre el ajuste del modelo y los valores reales\n",
        "inicio_lin_AG = time.time()\n",
        "clf_lin_AG.fit(x2, y)\n",
        "pred_lin_AG=clf_lin_AG.predict(x2)\n",
        "dif_lin_AG=(pred_lin_AG-y)\n",
        "fin_lin_AG = time.time()\n",
        "\n",
        "inicio_poly_AG = time.time()\n",
        "clf_poly_AG.fit(x2, y)\n",
        "pred_poly_AG=clf_poly_AG.predict(x2)\n",
        "dif_poly_AG=(pred_poly_AG-y)\n",
        "fin_poly_AG = time.time()\n",
        "\n",
        "inicio_rad_AG = time.time()\n",
        "clf_rad_AG.fit(x2, y)\n",
        "pred_rad_AG=clf_rad_AG.predict(x2)\n",
        "dif_rad_AG=(pred_rad_AG-y)\n",
        "fin_rad_AG = time.time()\n",
        "\n",
        "inicio_sig_AG = time.time()\n",
        "clf_sig_AG.fit(x2, y)\n",
        "pred_sig_AG=clf_sig_AG.predict(x2)\n",
        "dif_sig_AG=(pred_sig_AG-y)\n",
        "fin_sig_AG = time.time()\n"
      ]
    },
    {
      "cell_type": "markdown",
      "metadata": {
        "id": "UkxTTMPBxnTt"
      },
      "source": [
        "###**Hallamos las medidas e imprimimos los resultados**\n",
        "\n"
      ]
    },
    {
      "cell_type": "code",
      "execution_count": null,
      "metadata": {
        "colab": {
          "base_uri": "https://localhost:8080/"
        },
        "id": "2-AroCv5z9yB",
        "outputId": "21a75ba5-255f-4512-d822-8ad72a3c3051"
      },
      "outputs": [
        {
          "name": "stdout",
          "output_type": "stream",
          "text": [
            "La precisición del kernell lineal es  97.218 , el p-valor del estadístico F es 0.777395 y el valor auc-roc es de 0.967437 en 0.0072 segundos \n",
            "\n",
            "La precisición del kernell polinomial es  97.95 , el p-valor del estadístico F es 0.909662 y el valor auc-roc es de 0.978373 en 0.0044 segundos \n",
            "\n",
            "La precisición del kernell radial es  97.657 , el p-valor del estadístico F es 0.734532 y el valor auc-roc es de 0.971843 en 0.0053 segundos \n",
            "\n",
            "La precisición del kernell sigmoide es  71.157 , el p-valor del estadístico F es 0.954781 y el valor auc-roc es de 0.682882 en 0.0136 segundos \n",
            "\n",
            "La precisición del kernell lineal con AG es  96.34 , el p-valor del estadístico F es 0.954781 y el valor auc-roc es de 0.960183 en 0.0032 segundos \n",
            "\n",
            "La precisición del kernell polinomial con AG es  95.9 , el p-valor del estadístico F es 0.424186 y el valor auc-roc es de 0.961519 en 0.0049 segundos \n",
            "\n",
            "La precisición del kernell radial con AG es  96.047 , el p-valor del estadístico F es 0.954824 y el valor auc-roc es de 0.956161 en 0.0058 segundos \n",
            "\n",
            "La precisición del kernell sigmoide con AG es  77.745 , el p-valor del estadístico F es 0.734532 y el valor auc-roc es de 0.755442 en 0.0084 segundos \n",
            "\n"
          ]
        }
      ],
      "source": [
        "from scipy.stats import f_oneway\n",
        "from sklearn.metrics import accuracy_score\n",
        "from sklearn.metrics import roc_auc_score\n",
        "\n",
        "# Aplica la prueba F y valor AUC de la curva ROC\n",
        "\n",
        "f_statistic_lin, p_value_lin = f_oneway(pred_lin, y)\n",
        "roc_lin=roc_auc_score(pred_lin, y)\n",
        "acu_lin=accuracy_score(pred_lin, y)\n",
        "\n",
        "f_statistic_poly, p_value_poly = f_oneway(pred_poly, y)\n",
        "roc_poly=roc_auc_score(pred_poly, y)\n",
        "acu_poly=accuracy_score(pred_poly, y)\n",
        "\n",
        "f_statistic_rad, p_value_rad = f_oneway(pred_rad, y)\n",
        "roc_rad=roc_auc_score(pred_rad, y)\n",
        "acu_rad=accuracy_score(pred_rad, y)\n",
        "\n",
        "f_statistic_sig, p_value_sig = f_oneway(pred_sig, y)\n",
        "roc_sig=roc_auc_score(pred_sig, y)\n",
        "acu_sig=accuracy_score(pred_sig, y)\n",
        "\n",
        "# Ahora con algoritmo genético\n",
        "\n",
        "f_statistic_lin_AG, p_value_lin_AG = f_oneway(pred_lin_AG, y)\n",
        "roc_lin_AG=roc_auc_score(pred_lin_AG, y)\n",
        "acu_lin_AG=accuracy_score(pred_lin_AG, y)\n",
        "\n",
        "f_statistic_poly_AG, p_value_poly_AG = f_oneway(pred_poly_AG, y)\n",
        "roc_poly_AG=roc_auc_score(pred_poly_AG, y)\n",
        "acu_poly_AG=accuracy_score(pred_poly_AG, y)\n",
        "\n",
        "f_statistic_rad_AG, p_value_rad_AG = f_oneway(pred_rad_AG, y)\n",
        "roc_rad_AG=roc_auc_score(pred_rad_AG, y)\n",
        "acu_rad_AG=accuracy_score(pred_rad_AG, y)\n",
        "\n",
        "f_statistic_sig_AG, p_value_sig_AG = f_oneway(pred_sig_AG, y)\n",
        "roc_sig_AG=roc_auc_score(pred_sig_AG, y)\n",
        "acu_sig_AG=accuracy_score(pred_sig_AG, y)\n",
        "\n",
        "#Imprimimos las precisiones y los tiempos\n",
        "print(\"La precisición del kernell lineal es \", round(acu_lin*100,3),\", el p-valor del estadístico F es\", round(p_value_lin,6), 'y el valor auc-roc es de', round(roc_lin,6),'en',round(fin_lin-inicio_lin,4),\"segundos \\n\")\n",
        "print(\"La precisición del kernell polinomial es \", round(acu_poly*100,3),\", el p-valor del estadístico F es\", round(p_value_poly,6), 'y el valor auc-roc es de', round(roc_poly,6),'en',round(fin_poly-inicio_poly,4),\"segundos \\n\")\n",
        "print(\"La precisición del kernell radial es \", round(acu_rad*100,3),\", el p-valor del estadístico F es\", round(p_value_rad,6), 'y el valor auc-roc es de', round(roc_rad,6),'en',round(fin_rad-inicio_rad,4),\"segundos \\n\")\n",
        "print(\"La precisición del kernell sigmoide es \", round(acu_sig*100,3),\", el p-valor del estadístico F es\", round(p_value_sig,6), 'y el valor auc-roc es de', round(roc_sig,6),'en',round(fin_sig-inicio_sig,4),\"segundos \\n\")\n",
        "\n",
        "print(\"La precisición del kernell lineal con AG es \", round(acu_lin_AG*100,3),\", el p-valor del estadístico F es\", round(p_value_lin_AG,6), 'y el valor auc-roc es de', round(roc_lin_AG,6),'en',round(fin_lin_AG-inicio_lin_AG,4),\"segundos \\n\")\n",
        "print(\"La precisición del kernell polinomial con AG es \", round(acu_poly_AG*100,3),\", el p-valor del estadístico F es\", round(p_value_poly_AG,6), 'y el valor auc-roc es de', round(roc_poly_AG,6),'en',round(fin_poly_AG-inicio_poly_AG,4),\"segundos \\n\")\n",
        "print(\"La precisición del kernell radial con AG es \", round(acu_rad_AG*100,3),\", el p-valor del estadístico F es\", round(p_value_rad_AG,6), 'y el valor auc-roc es de', round(roc_rad_AG,6),'en',round(fin_rad_AG-inicio_rad_AG,4),\"segundos \\n\")\n",
        "print(\"La precisición del kernell sigmoide con AG es \", round(acu_sig_AG*100,3),\", el p-valor del estadístico F es\", round(p_value_sig_AG,6), 'y el valor auc-roc es de', round(roc_sig_AG,6),'en',round(fin_sig_AG-inicio_sig_AG,4),\"segundos \\n\")\n"
      ]
    },
    {
      "cell_type": "markdown",
      "metadata": {
        "id": "5skEmWAwcswe"
      },
      "source": [
        "### **Gráficos asociados a las estadísticas de interés**"
      ]
    },
    {
      "cell_type": "code",
      "execution_count": null,
      "metadata": {
        "colab": {
          "base_uri": "https://localhost:8080/",
          "height": 577
        },
        "id": "RZDZEdRgbDZ2",
        "outputId": "8f9a49a3-4b43-4e94-81ea-7bfc291a17cc"
      },
      "outputs": [
        {
          "data": {
            "image/png": "[encoded data removed]",
            "text/plain": [
              "<Figure size 1500x600 with 4 Axes>"
            ]
          },
          "metadata": {},
          "output_type": "display_data"
        }
      ],
      "source": [
        "import matplotlib.pyplot as plt\n",
        "import numpy as np\n",
        "\n",
        "# Datos de ejemplo (reemplaza estos valores con los tuyos)\n",
        "categorias = ['Lin','Poly','Rad','Sig','Lin + AG','Poli + AG','Rad + AG','Sig + AG']\n",
        "valores_1 = [acu_lin,acu_poly,acu_rad,acu_sig,acu_lin_AG,acu_poly_AG,acu_rad_AG,acu_sig_AG]\n",
        "valores_2 = [p_value_lin,p_value_poly,p_value_rad,p_value_sig,p_value_lin_AG,p_value_poly_AG,p_value_rad_AG,p_value_sig_AG]\n",
        "valores_3 = [roc_lin,roc_poly,roc_rad,roc_sig,roc_lin_AG,roc_poly_AG,roc_rad_AG,roc_sig_AG]\n",
        "valores_4 = [fin_lin-inicio_lin,fin_poly-inicio_poly,fin_rad-inicio_rad,fin_sig-inicio_sig,fin_lin_AG-inicio_lin_AG,fin_poly_AG-inicio_poly_AG, fin_rad_AG-inicio_rad_AG, fin_sig_AG-inicio_sig_AG]\n",
        "\n",
        "# Crear cuatro subgráficos\n",
        "fig, axs = plt.subplots(2, 2, figsize=(15, 6))\n",
        "\n",
        "# Gráfico 1\n",
        "axs[0, 0].bar(categorias, valores_1)\n",
        "axs[0, 0].set_title('Precisión')\n",
        "\n",
        "# Gráfico 2\n",
        "axs[0, 1].bar(categorias, valores_2)\n",
        "axs[0, 1].set_title('p-valor F')\n",
        "\n",
        "# Gráfico 3\n",
        "axs[1, 0].bar(categorias, valores_3)\n",
        "axs[1, 0].set_title('ROC')\n",
        "\n",
        "# Gráfico 4\n",
        "axs[1, 1].bar(categorias, valores_4)\n",
        "axs[1, 1].set_title('Tiempo computacional')\n",
        "\n",
        "# Ajustar la disposición de los subgráficos\n",
        "plt.tight_layout()\n",
        "\n",
        "# Mostrar los gráficos\n",
        "plt.show()"
      ]
    },
    {
      "cell_type": "markdown",
      "metadata": {
        "id": "QeOFMQPxgsZP"
      },
      "source": [
        "##**Ensamblaje por Bagging**"
      ]
    },
    {
      "cell_type": "markdown",
      "metadata": {
        "id": "oGhOeTGIrih5"
      },
      "source": [
        "###**Creamos los modelos**"
      ]
    },
    {
      "cell_type": "code",
      "execution_count": null,
      "metadata": {
        "colab": {
          "base_uri": "https://localhost:8080/"
        },
        "id": "0vVDZ-SghTBe",
        "outputId": "7e2c9096-c343-4bc1-ba6c-fc0f12fb855a"
      },
      "outputs": [
        {
          "name": "stderr",
          "output_type": "stream",
          "text": [
            "/usr/local/lib/python3.10/dist-packages/sklearn/ensemble/_base.py:166: FutureWarning: `base_estimator` was renamed to `estimator` in version 1.2 and will be removed in 1.4.\n",
            "  warnings.warn(\n",
            "/usr/local/lib/python3.10/dist-packages/sklearn/ensemble/_base.py:166: FutureWarning: `base_estimator` was renamed to `estimator` in version 1.2 and will be removed in 1.4.\n",
            "  warnings.warn(\n",
            "/usr/local/lib/python3.10/dist-packages/sklearn/ensemble/_base.py:166: FutureWarning: `base_estimator` was renamed to `estimator` in version 1.2 and will be removed in 1.4.\n",
            "  warnings.warn(\n",
            "/usr/local/lib/python3.10/dist-packages/sklearn/ensemble/_base.py:166: FutureWarning: `base_estimator` was renamed to `estimator` in version 1.2 and will be removed in 1.4.\n",
            "  warnings.warn(\n"
          ]
        }
      ],
      "source": [
        "from sklearn.tree import DecisionTreeClassifier\n",
        "from sklearn.ensemble import BaggingClassifier, AdaBoostClassifier\n",
        "\n",
        "y=Wisconsin[\"Class\"]\n",
        "y=np.array(y)\n",
        "x=Wisconsin.drop(['Class'], axis=1)\n",
        "a = np.array(x)\n",
        "\n",
        "# Escalamos los datos para poder trabajar con ellos\n",
        "scaler = MinMaxScaler()\n",
        "scaler.fit(x)\n",
        "x=scaler.transform(x)\n",
        "\n",
        "\n",
        "# Divide los datos en conjuntos de entrenamiento y prueba\n",
        "x_train, x_test, y_train, y_test = train_test_split(x, y, test_size=0.2, random_state=42)\n",
        "\n",
        "# Ajustamos todos los modelos por bagging\n",
        "inicio_lin = time.time()\n",
        "bagging_model_li = BaggingClassifier(base_estimator=clf_lin, n_estimators=10, random_state=0)\n",
        "bagging_model_li.fit(x_train, y_train)\n",
        "pred_lin = bagging_model_li.predict(x)\n",
        "fin_lin = time.time()\n",
        "\n",
        "inicio_poly = time.time()\n",
        "bagging_model_poly = BaggingClassifier(base_estimator=clf_poly, n_estimators=10, random_state=0)\n",
        "bagging_model_poly.fit(x_train, y_train)\n",
        "pred_poly = bagging_model_poly.predict(x)\n",
        "fin_poly = time.time()\n",
        "\n",
        "inicio_rad = time.time()\n",
        "bagging_model_rad = BaggingClassifier(base_estimator=clf_rad, n_estimators=10, random_state=0)\n",
        "bagging_model_rad.fit(x_train, y_train)\n",
        "pred_rad = bagging_model_rad.predict(x)\n",
        "fin_rad = time.time()\n",
        "\n",
        "inicio_sig = time.time()\n",
        "bagging_model_sig = BaggingClassifier(base_estimator=clf_sig, n_estimators=10, random_state=0)\n",
        "bagging_model_sig.fit(x_train, y_train)\n",
        "pred_sig = bagging_model_sig.predict(x)\n",
        "fin_sig = time.time()\n",
        "\n"
      ]
    },
    {
      "cell_type": "markdown",
      "metadata": {
        "id": "wpqPsDzdkRHO"
      },
      "source": [
        "###**Ahora para los modelos de AG**"
      ]
    },
    {
      "cell_type": "code",
      "execution_count": null,
      "metadata": {
        "colab": {
          "base_uri": "https://localhost:8080/"
        },
        "id": "F40OZgzekQnd",
        "outputId": "0a65437c-1871-4a5d-a70a-4812a55302a8"
      },
      "outputs": [
        {
          "name": "stderr",
          "output_type": "stream",
          "text": [
            "/usr/local/lib/python3.10/dist-packages/sklearn/ensemble/_base.py:166: FutureWarning: `base_estimator` was renamed to `estimator` in version 1.2 and will be removed in 1.4.\n",
            "  warnings.warn(\n",
            "/usr/local/lib/python3.10/dist-packages/sklearn/ensemble/_base.py:166: FutureWarning: `base_estimator` was renamed to `estimator` in version 1.2 and will be removed in 1.4.\n",
            "  warnings.warn(\n",
            "/usr/local/lib/python3.10/dist-packages/sklearn/ensemble/_base.py:166: FutureWarning: `base_estimator` was renamed to `estimator` in version 1.2 and will be removed in 1.4.\n",
            "  warnings.warn(\n",
            "/usr/local/lib/python3.10/dist-packages/sklearn/ensemble/_base.py:166: FutureWarning: `base_estimator` was renamed to `estimator` in version 1.2 and will be removed in 1.4.\n",
            "  warnings.warn(\n"
          ]
        }
      ],
      "source": [
        "# LLamamos nuevamente al conjuto de datos\n",
        "y=Wisconsin[\"Class\"]\n",
        "y=np.array(y)\n",
        "x=Wisconsin.drop(['Class'], axis=1)\n",
        "columnas_seleccionadas = [2, 3, 4, 6]\n",
        "\n",
        "# Utiliza .iloc para seleccionar las columnas por índice\n",
        "x=x2\n",
        "a = np.array(x)\n",
        "\n",
        "\n",
        "# Escalamos los datos para poder trabajar con ellos\n",
        "scaler = MinMaxScaler()\n",
        "scaler.fit(x)\n",
        "x=scaler.transform(x)\n",
        "\n",
        "# Divide los datos en conjuntos de entrenamiento y prueba\n",
        "x_train, x_test, y_train, y_test = train_test_split(x, y, test_size=0.2, random_state=42)\n",
        "\n",
        "# Ajustamos todos los modelos por bagging\n",
        "inicio_lin_AG = time.time()\n",
        "bagging_model_li_AG = BaggingClassifier(base_estimator=clf_lin_AG, n_estimators=10, random_state=0)\n",
        "bagging_model_li_AG.fit(x_train, y_train)\n",
        "pred_lin_AG = bagging_model_li_AG.predict(x)\n",
        "fin_lin_AG = time.time()\n",
        "\n",
        "inicio_poly_AG = time.time()\n",
        "bagging_model_poly_AG = BaggingClassifier(base_estimator=clf_poly_AG, n_estimators=10, random_state=0)\n",
        "bagging_model_poly_AG.fit(x_train, y_train)\n",
        "pred_poly_AG = bagging_model_poly_AG.predict(x)\n",
        "fin_poly_AG = time.time()\n",
        "\n",
        "inicio_rad_AG = time.time()\n",
        "bagging_model_rad_AG = BaggingClassifier(base_estimator=clf_rad_AG, n_estimators=10, random_state=0)\n",
        "bagging_model_rad_AG.fit(x_train, y_train)\n",
        "pred_rad_AG = bagging_model_rad_AG.predict(x)\n",
        "fin_rad_AG = time.time()\n",
        "\n",
        "inicio_sig_AG = time.time()\n",
        "bagging_model_sig_AG = BaggingClassifier(base_estimator=clf_sig_AG, n_estimators=10, random_state=0)\n",
        "bagging_model_sig_AG.fit(x_train, y_train)\n",
        "pred_sig_AG = bagging_model_sig_AG.predict(x)\n",
        "fin_sig_AG = time.time()"
      ]
    },
    {
      "cell_type": "markdown",
      "metadata": {
        "id": "jb7qT8xblGMW"
      },
      "source": [
        "###**Ahora determinamos las medidas de interés**\n",
        "\n"
      ]
    },
    {
      "cell_type": "code",
      "execution_count": null,
      "metadata": {
        "colab": {
          "base_uri": "https://localhost:8080/"
        },
        "id": "aCOjMCRhlFzY",
        "outputId": "7555d96e-ff20-4448-8524-b1c001c2333b"
      },
      "outputs": [
        {
          "name": "stdout",
          "output_type": "stream",
          "text": [
            "La precisición del kernell lineal es  96.925 , el p-valor del estadístico F es 0.864789 y el valor auc-roc es de 0.967509 en 0.03 segundos \n",
            "\n",
            "La precisición del kernell polinomial es  96.925 , el p-valor del estadístico F es 0.530711 y el valor auc-roc es de 0.971453 en 0.0309 segundos \n",
            "\n",
            "La precisición del kernell radial es  97.218 , el p-valor del estadístico F es 0.954781 y el valor auc-roc es de 0.969856 en 0.0388 segundos \n",
            "\n",
            "La precisición del kernell sigmoide es  70.571 , el p-valor del estadístico F es 0.391595 y el valor auc-roc es de 0.674764 en 0.0711 segundos \n",
            "\n",
            "La precisición del kernell lineal con AG es  96.047 , el p-valor del estadístico F es 0.69054 y el valor auc-roc es de 0.959601 en 0.1131 segundos \n",
            "\n",
            "La precisición del kernell polinomial con AG es  95.608 , el p-valor del estadístico F es 0.360537 y el valor auc-roc es de 0.959305 en 0.0861 segundos \n",
            "\n",
            "La precisición del kernell radial con AG es  96.193 , el p-valor del estadístico F es 0.909662 y el valor auc-roc es de 0.958988 en 0.0707 segundos \n",
            "\n",
            "La precisición del kernell sigmoide con AG es  77.745 , el p-valor del estadístico F es 1.0 y el valor auc-roc es de 0.755419 en 0.1356 segundos \n",
            "\n"
          ]
        }
      ],
      "source": [
        "from scipy.stats import f_oneway\n",
        "from sklearn.metrics import accuracy_score\n",
        "from sklearn.metrics import roc_auc_score\n",
        "\n",
        "# Aplica la prueba F y valor AUC de la curva ROC\n",
        "\n",
        "f_statistic_lin, p_value_lin = f_oneway(pred_lin, y)\n",
        "roc_lin=roc_auc_score(pred_lin, y)\n",
        "acu_lin=accuracy_score(pred_lin, y)\n",
        "\n",
        "f_statistic_poly, p_value_poly = f_oneway(pred_poly, y)\n",
        "roc_poly=roc_auc_score(pred_poly, y)\n",
        "acu_poly=accuracy_score(pred_poly, y)\n",
        "\n",
        "f_statistic_rad, p_value_rad = f_oneway(pred_rad, y)\n",
        "roc_rad=roc_auc_score(pred_rad, y)\n",
        "acu_rad=accuracy_score(pred_rad, y)\n",
        "\n",
        "f_statistic_sig, p_value_sig = f_oneway(pred_sig, y)\n",
        "roc_sig=roc_auc_score(pred_sig, y)\n",
        "acu_sig=accuracy_score(pred_sig, y)\n",
        "\n",
        "# Ahora con algoritmo genético\n",
        "\n",
        "f_statistic_lin_AG, p_value_lin_AG = f_oneway(pred_lin_AG, y)\n",
        "roc_lin_AG=roc_auc_score(pred_lin_AG, y)\n",
        "acu_lin_AG=accuracy_score(pred_lin_AG, y)\n",
        "\n",
        "f_statistic_poly_AG, p_value_poly_AG = f_oneway(pred_poly_AG, y)\n",
        "roc_poly_AG=roc_auc_score(pred_poly_AG, y)\n",
        "acu_poly_AG=accuracy_score(pred_poly_AG, y)\n",
        "\n",
        "f_statistic_rad_AG, p_value_rad_AG = f_oneway(pred_rad_AG, y)\n",
        "roc_rad_AG=roc_auc_score(pred_rad_AG, y)\n",
        "acu_rad_AG=accuracy_score(pred_rad_AG, y)\n",
        "\n",
        "f_statistic_sig_AG, p_value_sig_AG = f_oneway(pred_sig_AG, y)\n",
        "roc_sig_AG=roc_auc_score(pred_sig_AG, y)\n",
        "acu_sig_AG=accuracy_score(pred_sig_AG, y)\n",
        "\n",
        "#Imprimimos las precisiones y los tiempos\n",
        "print(\"La precisición del kernell lineal es \", round(acu_lin*100,3),\", el p-valor del estadístico F es\", round(p_value_lin,6), 'y el valor auc-roc es de', round(roc_lin,6),'en',round(fin_lin-inicio_lin,4),\"segundos \\n\")\n",
        "print(\"La precisición del kernell polinomial es \", round(acu_poly*100,3),\", el p-valor del estadístico F es\", round(p_value_poly,6), 'y el valor auc-roc es de', round(roc_poly,6),'en',round(fin_poly-inicio_poly,4),\"segundos \\n\")\n",
        "print(\"La precisición del kernell radial es \", round(acu_rad*100,3),\", el p-valor del estadístico F es\", round(p_value_rad,6), 'y el valor auc-roc es de', round(roc_rad,6),'en',round(fin_rad-inicio_rad,4),\"segundos \\n\")\n",
        "print(\"La precisición del kernell sigmoide es \", round(acu_sig*100,3),\", el p-valor del estadístico F es\", round(p_value_sig,6), 'y el valor auc-roc es de', round(roc_sig,6),'en',round(fin_sig-inicio_sig,4),\"segundos \\n\")\n",
        "\n",
        "print(\"La precisición del kernell lineal con AG es \", round(acu_lin_AG*100,3),\", el p-valor del estadístico F es\", round(p_value_lin_AG,6), 'y el valor auc-roc es de', round(roc_lin_AG,6),'en',round(fin_lin_AG-inicio_lin_AG,4),\"segundos \\n\")\n",
        "print(\"La precisición del kernell polinomial con AG es \", round(acu_poly_AG*100,3),\", el p-valor del estadístico F es\", round(p_value_poly_AG,6), 'y el valor auc-roc es de', round(roc_poly_AG,6),'en',round(fin_poly_AG-inicio_poly_AG,4),\"segundos \\n\")\n",
        "print(\"La precisición del kernell radial con AG es \", round(acu_rad_AG*100,3),\", el p-valor del estadístico F es\", round(p_value_rad_AG,6), 'y el valor auc-roc es de', round(roc_rad_AG,6),'en',round(fin_rad_AG-inicio_rad_AG,4),\"segundos \\n\")\n",
        "print(\"La precisición del kernell sigmoide con AG es \", round(acu_sig_AG*100,3),\", el p-valor del estadístico F es\", round(p_value_sig_AG,6), 'y el valor auc-roc es de', round(roc_sig_AG,6),'en',round(fin_sig_AG-inicio_sig_AG,4),\"segundos \\n\")\n"
      ]
    },
    {
      "cell_type": "markdown",
      "metadata": {
        "id": "6iV_YCI_lTsZ"
      },
      "source": [
        "###**Gráficos**"
      ]
    },
    {
      "cell_type": "code",
      "execution_count": null,
      "metadata": {
        "colab": {
          "base_uri": "https://localhost:8080/",
          "height": 577
        },
        "id": "CQ6W0mJIlXKc",
        "outputId": "ac3ad283-c62d-4650-967f-bda59705bc9c"
      },
      "outputs": [
        {
          "data": {
            "image/png": "[encoded data removed]",
            "text/plain": [
              "<Figure size 1500x600 with 4 Axes>"
            ]
          },
          "metadata": {},
          "output_type": "display_data"
        }
      ],
      "source": [
        "import matplotlib.pyplot as plt\n",
        "import numpy as np\n",
        "\n",
        "# Datos de ejemplo (reemplaza estos valores con los tuyos)\n",
        "categorias = ['Lin','Poly','Rad','Sig','Lin + AG','Poli + AG','Rad + AG','Sig + AG']\n",
        "valores_1 = [acu_lin,acu_poly,acu_rad,acu_sig,acu_lin_AG,acu_poly_AG,acu_rad_AG,acu_sig_AG]\n",
        "valores_2 = [p_value_lin,p_value_poly,p_value_rad,p_value_sig,p_value_lin_AG,p_value_poly_AG,p_value_rad_AG,p_value_sig_AG]\n",
        "valores_3 = [roc_lin,roc_poly,roc_rad,roc_sig,roc_lin_AG,roc_poly_AG,roc_rad_AG,roc_sig_AG]\n",
        "valores_4 = [fin_lin-inicio_lin,fin_poly-inicio_poly,fin_rad-inicio_rad,fin_sig-inicio_sig,fin_lin_AG-inicio_lin_AG,fin_poly_AG-inicio_poly_AG, fin_rad_AG-inicio_rad_AG, fin_sig_AG-inicio_sig_AG]\n",
        "\n",
        "# Crear cuatro subgráficos\n",
        "fig, axs = plt.subplots(2, 2, figsize=(15, 6))\n",
        "\n",
        "# Gráfico 1\n",
        "axs[0, 0].bar(categorias, valores_1)\n",
        "axs[0, 0].set_title('Precisión')\n",
        "\n",
        "# Gráfico 2\n",
        "axs[0, 1].bar(categorias, valores_2)\n",
        "axs[0, 1].set_title('p-valor F')\n",
        "\n",
        "# Gráfico 3\n",
        "axs[1, 0].bar(categorias, valores_3)\n",
        "axs[1, 0].set_title('ROC')\n",
        "\n",
        "# Gráfico 4\n",
        "axs[1, 1].bar(categorias, valores_4)\n",
        "axs[1, 1].set_title('Tiempo computacional')\n",
        "\n",
        "# Ajustar la disposición de los subgráficos\n",
        "plt.tight_layout()\n",
        "\n",
        "# Mostrar los gráficos\n",
        "plt.show()"
      ]
    },
    {
      "cell_type": "markdown",
      "metadata": {
        "id": "bY_uCn56raDG"
      },
      "source": [
        "## **Ensamblaje por boosting**"
      ]
    },
    {
      "cell_type": "markdown",
      "metadata": {
        "id": "LYITtEzytHhM"
      },
      "source": [
        "###**Creamos los modelos**"
      ]
    },
    {
      "cell_type": "code",
      "execution_count": null,
      "metadata": {
        "id": "tEYug_iWs8mw"
      },
      "outputs": [],
      "source": [
        "from sklearn.tree import DecisionTreeClassifier\n",
        "from sklearn.ensemble import BaggingClassifier, AdaBoostClassifier\n",
        "\n",
        "y=Wisconsin[\"Class\"]\n",
        "y=np.array(y)\n",
        "x=Wisconsin.drop(['Class'], axis=1)\n",
        "a = np.array(x)\n",
        "\n",
        "# Escalamos los datos para poder trabajar con ellos\n",
        "scaler = MinMaxScaler()\n",
        "scaler.fit(x)\n",
        "x=scaler.transform(x)\n",
        "\n",
        "\n",
        "# Divide los datos en conjuntos de entrenamiento y prueba\n",
        "x_train, x_test, y_train, y_test = train_test_split(x, y, test_size=0.2, random_state=42)\n",
        "\n",
        "# Ajustamos todos los modelos por bagging\n",
        "inicio_lin = time.time()\n",
        "adaboost_model_li = AdaBoostClassifier(estimator=clf_lin, random_state=0, algorithm=\"SAMME\")\n",
        "adaboost_model_li.fit(x_train, y_train)\n",
        "pred_lin = adaboost_model_li.predict(x)\n",
        "fin_lin = time.time()\n",
        "\n",
        "inicio_poly = time.time()\n",
        "adaboost_model_poly = AdaBoostClassifier(estimator=clf_poly, random_state=0, algorithm=\"SAMME\")\n",
        "adaboost_model_poly.fit(x_train, y_train)\n",
        "pred_poly = adaboost_model_poly.predict(x)\n",
        "fin_poly = time.time()\n",
        "\n",
        "inicio_rad = time.time()\n",
        "adaboost_model_rad = AdaBoostClassifier(estimator=clf_rad, random_state=0, algorithm=\"SAMME\")\n",
        "adaboost_model_rad.fit(x_train, y_train)\n",
        "pred_rad = adaboost_model_rad.predict(x)\n",
        "fin_rad = time.time()\n",
        "\n",
        "inicio_sig = time.time()\n",
        "adaboost_model_sig = AdaBoostClassifier(estimator=clf_sig, random_state=0, algorithm=\"SAMME\")\n",
        "adaboost_model_sig.fit(x_train, y_train)\n",
        "pred_sig = adaboost_model_sig.predict(x)\n",
        "fin_sig = time.time()\n"
      ]
    },
    {
      "cell_type": "markdown",
      "metadata": {
        "id": "iFRjgTKitjB-"
      },
      "source": [
        "###**Ahora para los modelos de AG**"
      ]
    },
    {
      "cell_type": "code",
      "execution_count": null,
      "metadata": {
        "id": "MLke_Hf8uX0U"
      },
      "outputs": [],
      "source": [
        "# LLamamos nuevamente al conjuto de datos\n",
        "y=Wisconsin[\"Class\"]\n",
        "y=np.array(y)\n",
        "x=Wisconsin.drop(['Class'], axis=1)\n",
        "columnas_seleccionadas = [2, 3, 4, 6]\n",
        "\n",
        "# Utiliza .iloc para seleccionar las columnas por índice\n",
        "x=x2\n",
        "a = np.array(x)\n",
        "\n",
        "\n",
        "# Escalamos los datos para poder trabajar con ellos\n",
        "scaler = MinMaxScaler()\n",
        "scaler.fit(x)\n",
        "x=scaler.transform(x)\n",
        "\n",
        "\n",
        "# Divide los datos en conjuntos de entrenamiento y prueba\n",
        "x_train, x_test, y_train, y_test = train_test_split(x, y, test_size=0.2, random_state=42)\n",
        "\n",
        "# Ajustamos todos los modelos por boosting\n",
        "inicio_lin_AG = time.time()\n",
        "adaboost_model_li_AG = AdaBoostClassifier(estimator=clf_lin_AG, random_state=0, algorithm=\"SAMME\")\n",
        "adaboost_model_li_AG.fit(x_train, y_train)\n",
        "pred_lin_AG = adaboost_model_li_AG.predict(x)\n",
        "fin_lin_AG = time.time()\n",
        "\n",
        "inicio_poly_AG = time.time()\n",
        "adaboost_model_poly_AG = AdaBoostClassifier(estimator=clf_poly_AG, random_state=0, algorithm=\"SAMME\")\n",
        "adaboost_model_poly_AG.fit(x_train, y_train)\n",
        "pred_poly_AG = adaboost_model_poly_AG.predict(x)\n",
        "fin_poly_AG = time.time()\n",
        "\n",
        "inicio_rad_AG = time.time()\n",
        "adaboost_model_rad_AG = AdaBoostClassifier(estimator=clf_rad_AG, random_state=0, algorithm=\"SAMME\")\n",
        "adaboost_model_rad_AG.fit(x_train, y_train)\n",
        "pred_rad_AG = adaboost_model_rad_AG.predict(x)\n",
        "fin_rad_AG = time.time()\n",
        "\n",
        "inicio_sig_AG = time.time()\n",
        "adaboost_model_sig_AG = AdaBoostClassifier(estimator=clf_sig_AG, random_state=0, algorithm=\"SAMME\")\n",
        "adaboost_model_sig_AG.fit(x_train, y_train)\n",
        "pred_sig_AG = adaboost_model_sig_AG.predict(x)\n",
        "fin_sig_AG = time.time()"
      ]
    },
    {
      "cell_type": "markdown",
      "metadata": {
        "id": "QdIEqJlUuv9n"
      },
      "source": [
        "###**Ahora determinamos las medidas de interés**"
      ]
    },
    {
      "cell_type": "code",
      "execution_count": null,
      "metadata": {
        "colab": {
          "base_uri": "https://localhost:8080/"
        },
        "id": "gbfkE8lZu2rc",
        "outputId": "fceb9296-40d2-4b9c-bcee-79e92aa9487f"
      },
      "outputs": [
        {
          "name": "stdout",
          "output_type": "stream",
          "text": [
            "La precisición del kernell lineal es  97.365 , el p-valor del estadístico F es 0.734532 y el valor auc-roc es de 0.968661 en 0.0708 segundos \n",
            "\n",
            "La precisición del kernell polinomial es  94.143 , el p-valor del estadístico F es 0.037366 y el valor auc-roc es de 0.955491 en 0.1168 segundos \n",
            "\n",
            "La precisición del kernell radial es  65.007 , el p-valor del estadístico F es 0.0 y el valor auc-roc es de 0.5 en 2.2511 segundos \n",
            "\n",
            "La precisición del kernell sigmoide es  65.007 , el p-valor del estadístico F es 0.0 y el valor auc-roc es de 0.5 en 4.7771 segundos \n",
            "\n",
            "La precisición del kernell lineal con AG es  94.583 , el p-valor del estadístico F es 0.050572 y el valor auc-roc es de 0.957367 en 0.3438 segundos \n",
            "\n",
            "La precisición del kernell polinomial con AG es  91.508 , el p-valor del estadístico F es 0.005145 y el valor auc-roc es de 0.883491 en 0.3651 segundos \n",
            "\n",
            "La precisición del kernell radial con AG es  65.007 , el p-valor del estadístico F es 0.0 y el valor auc-roc es de 0.5 en 2.2118 segundos \n",
            "\n",
            "La precisición del kernell sigmoide con AG es  65.007 , el p-valor del estadístico F es 0.0 y el valor auc-roc es de 0.5 en 1.3087 segundos \n",
            "\n"
          ]
        }
      ],
      "source": [
        "from scipy.stats import f_oneway\n",
        "from sklearn.metrics import accuracy_score\n",
        "from sklearn.metrics import roc_auc_score\n",
        "\n",
        "# Aplica la prueba F y valor AUC de la curva ROC\n",
        "\n",
        "f_statistic_lin, p_value_lin = f_oneway(pred_lin, y)\n",
        "roc_lin=roc_auc_score(pred_lin, y)\n",
        "acu_lin=accuracy_score(pred_lin, y)\n",
        "\n",
        "f_statistic_poly, p_value_poly = f_oneway(pred_poly, y)\n",
        "roc_poly=roc_auc_score(pred_poly, y)\n",
        "acu_poly=accuracy_score(pred_poly, y)\n",
        "\n",
        "f_statistic_rad, p_value_rad = f_oneway(pred_rad, y)\n",
        "roc_rad=roc_auc_score(y,pred_rad)\n",
        "acu_rad=accuracy_score(pred_rad, y)\n",
        "\n",
        "f_statistic_sig, p_value_sig = f_oneway(y, pred_sig)\n",
        "roc_sig=roc_auc_score(y, pred_sig)\n",
        "acu_sig=accuracy_score(y, pred_sig)\n",
        "\n",
        "# Ahora con algoritmo genético\n",
        "\n",
        "f_statistic_lin_AG, p_value_lin_AG = f_oneway(pred_lin_AG, y)\n",
        "roc_lin_AG=roc_auc_score(y, pred_lin_AG)\n",
        "acu_lin_AG=accuracy_score(pred_lin_AG, y)\n",
        "\n",
        "f_statistic_poly_AG, p_value_poly_AG = f_oneway(pred_poly_AG, y)\n",
        "roc_poly_AG=roc_auc_score(y, pred_poly_AG)\n",
        "acu_poly_AG=accuracy_score(pred_poly_AG, y)\n",
        "\n",
        "f_statistic_rad_AG, p_value_rad_AG = f_oneway(pred_rad_AG, y)\n",
        "roc_rad_AG=roc_auc_score(y,pred_rad_AG)\n",
        "acu_rad_AG=accuracy_score(pred_rad_AG, y)\n",
        "\n",
        "f_statistic_sig_AG, p_value_sig_AG = f_oneway(pred_sig_AG, y)\n",
        "roc_sig_AG=roc_auc_score(y, pred_sig_AG)\n",
        "acu_sig_AG=accuracy_score(pred_sig_AG, y)\n",
        "\n",
        "#Imprimimos las precisiones y los tiempos\n",
        "print(\"La precisición del kernell lineal es \", round(acu_lin*100,3),\", el p-valor del estadístico F es\", round(p_value_lin,6), 'y el valor auc-roc es de', round(roc_lin,6),'en',round(fin_lin-inicio_lin,4),\"segundos \\n\")\n",
        "print(\"La precisición del kernell polinomial es \", round(acu_poly*100,3),\", el p-valor del estadístico F es\", round(p_value_poly,6), 'y el valor auc-roc es de', round(roc_poly,6),'en',round(fin_poly-inicio_poly,4),\"segundos \\n\")\n",
        "print(\"La precisición del kernell radial es \", round(acu_rad*100,3),\", el p-valor del estadístico F es\", round(p_value_rad,6), 'y el valor auc-roc es de', round(roc_rad,6),'en',round(fin_rad-inicio_rad,4),\"segundos \\n\")\n",
        "print(\"La precisición del kernell sigmoide es \", round(acu_sig*100,3),\", el p-valor del estadístico F es\", round(p_value_sig,6), 'y el valor auc-roc es de', round(roc_sig,6),'en',round(fin_sig-inicio_sig,4),\"segundos \\n\")\n",
        "\n",
        "print(\"La precisición del kernell lineal con AG es \", round(acu_lin_AG*100,3),\", el p-valor del estadístico F es\", round(p_value_lin_AG,6), 'y el valor auc-roc es de', round(roc_lin_AG,6),'en',round(fin_lin_AG-inicio_lin_AG,4),\"segundos \\n\")\n",
        "print(\"La precisición del kernell polinomial con AG es \", round(acu_poly_AG*100,3),\", el p-valor del estadístico F es\", round(p_value_poly_AG,6), 'y el valor auc-roc es de', round(roc_poly_AG,6),'en',round(fin_poly_AG-inicio_poly_AG,4),\"segundos \\n\")\n",
        "print(\"La precisición del kernell radial con AG es \", round(acu_rad_AG*100,3),\", el p-valor del estadístico F es\", round(p_value_rad_AG,6), 'y el valor auc-roc es de', round(roc_rad_AG,6),'en',round(fin_rad_AG-inicio_rad_AG,4),\"segundos \\n\")\n",
        "print(\"La precisición del kernell sigmoide con AG es \", round(acu_sig_AG*100,3),\", el p-valor del estadístico F es\", round(p_value_sig_AG,6), 'y el valor auc-roc es de', round(roc_sig_AG,6),'en',round(fin_sig_AG-inicio_sig_AG,4),\"segundos \\n\")\n"
      ]
    },
    {
      "cell_type": "markdown",
      "metadata": {
        "id": "sIu9ODb3wywo"
      },
      "source": [
        "### **Gráficos**"
      ]
    },
    {
      "cell_type": "code",
      "execution_count": null,
      "metadata": {
        "colab": {
          "base_uri": "https://localhost:8080/",
          "height": 577
        },
        "id": "TFg22D2Ywx2H",
        "outputId": "2bc20ce2-fc13-401f-c895-c2d425029e0a"
      },
      "outputs": [
        {
          "data": {
            "image/png": "[encoded data removed]",
            "text/plain": [
              "<Figure size 1500x600 with 4 Axes>"
            ]
          },
          "metadata": {},
          "output_type": "display_data"
        }
      ],
      "source": [
        "import matplotlib.pyplot as plt\n",
        "import numpy as np\n",
        "\n",
        "# Datos de ejemplo (reemplaza estos valores con los tuyos)\n",
        "categorias = ['Lin','Poly','Rad','Sig','Lin + AG','Poli + AG','Rad + AG','Sig + AG']\n",
        "valores_1 = [acu_lin,acu_poly,acu_rad,acu_sig,acu_lin_AG,acu_poly_AG,acu_rad_AG,acu_sig_AG]\n",
        "valores_2 = [p_value_lin,p_value_poly,p_value_rad,p_value_sig,p_value_lin_AG,p_value_poly_AG,p_value_rad_AG,p_value_sig_AG]\n",
        "valores_3 = [roc_lin,roc_poly,roc_rad,roc_sig,roc_lin_AG,roc_poly_AG,roc_rad_AG,roc_sig_AG]\n",
        "valores_4 = [fin_lin-inicio_lin,fin_poly-inicio_poly,fin_rad-inicio_rad,fin_sig-inicio_sig,fin_lin_AG-inicio_lin_AG,fin_poly_AG-inicio_poly_AG, fin_rad_AG-inicio_rad_AG, fin_sig_AG-inicio_sig_AG]\n",
        "\n",
        "# Crear cuatro subgráficos\n",
        "fig, axs = plt.subplots(2, 2, figsize=(15, 6))\n",
        "\n",
        "# Gráfico 1\n",
        "axs[0, 0].bar(categorias, valores_1)\n",
        "axs[0, 0].set_title('Precisión')\n",
        "\n",
        "# Gráfico 2\n",
        "axs[0, 1].bar(categorias, valores_2)\n",
        "axs[0, 1].set_title('p-valor F')\n",
        "\n",
        "# Gráfico 3\n",
        "axs[1, 0].bar(categorias, valores_3)\n",
        "axs[1, 0].set_title('ROC')\n",
        "\n",
        "# Gráfico 4\n",
        "axs[1, 1].bar(categorias, valores_4)\n",
        "axs[1, 1].set_title('Tiempo computacional')\n",
        "\n",
        "# Ajustar la disposición de los subgráficos\n",
        "plt.tight_layout()\n",
        "\n",
        "# Mostrar los gráficos\n",
        "plt.show()"
      ]
    },
    {
      "cell_type": "markdown",
      "metadata": {
        "id": "_SoEiUKDxNit"
      },
      "source": [
        "# **Base grande**"
      ]
    },
    {
      "cell_type": "code",
      "execution_count": null,
      "metadata": {
        "colab": {
          "base_uri": "https://localhost:8080/"
        },
        "id": "YWJgLfEExMIk",
        "outputId": "f113e7f6-9fa0-4671-be01-47385f0eebef"
      },
      "outputs": [
        {
          "output_type": "stream",
          "name": "stdout",
          "text": [
            "1.0001e+005\t13278\t1\t1\t517\t3043\t1286\t2305\n",
            "1.0001e+005\t13278\t1\t1\t85\t2731\t1286\t2305\n",
            "1.0001e+005\t13278\t1\t1\t696\t2345\t1286\t2305\n",
            "1.0001e+005\t13278\t1\t1\t895\t2362\t1286\t2305\n",
            "1.0001e+005\t13278\t1\t1\t391\t2280\t1286\t2305\n",
            "1.0001e+005\t13278\t1\t1\t755\t2087\t1286\t2305\n",
            "1.0001e+005\t13278\t1\t1\t707\t2019\t1286\t2305\n",
            "1.0001e+005\t13278\t1\t1\t752\t2072\t1286\t2305\n",
            "1.0001e+005\t13278\t1\t1\t764\t2174\t1286\t2305\n",
            "1.0002e+005\t13278\t0\t1\t2631\t2798\t2068\t2123\n",
            "1.0002e+005\t13278\t0\t1\t3097\t2749\t2068\t2123\n",
            "1.0002e+005\t13278\t0\t1\t3098\t2751\t2068\t2123\n",
            "1.0002e+005\t13278\t0\t1\t2744\t2468\t2068\t2123\n",
            "1.0002e+005\t13278\t0\t1\t2491\t2417\t2068\t2123\n",
            "1.0002e+005\t13278\t0\t1\t2401\t2019\t2068\t2123\n",
            "1.0002e+005\t13278\t0\t1\t3183\t2048\t2068\t2123\n",
            "1.0002e+005\t13278\t0\t1\t2924\t1975\t2068\t2123\n",
            "1.0002e+005\t13278\t0\t1\t2785\t1946\t2068\t2123\n",
            "1.0002e+005\t13278\t0\t1\t2819\t1994\t2068\t2123\n",
            "1.0002e+005\t13278\t0\t1\t2633\t1974\t2068\t2123\n",
            "1.0002e+005\t13278\t0\t1\t2514\t1812\t2068\t2123\n",
            "1.0002e+005\t13278\t0\t1\t2642\t1957\t2068\t2123\n",
            "1.0002e+005\t13278\t0\t1\t2856\t1724\t2068\t2123\n",
            "1.0002e+005\t13278\t0\t1\t2625\t2792\t2068\t2123\n",
            "1.\n"
          ]
        }
      ],
      "source": [
        "import IPython\n",
        "from google.colab import output\n",
        "\n",
        "\n",
        "\n",
        "\n",
        "try:\n",
        "    # Abre el archivo \"Features.txt\" en modo de lectura\n",
        "    with open(\"/content/gdrive/Shareddrives/Seminario Posgrado/2023-2S/Features.txt\", \"r\") as file:\n",
        "        # Lee el contenido completo del archivo y almacénalo en una variable\n",
        "        contenido = file.read()\n",
        "\n",
        "    # Muestra el contenido en fragmentos o procesa la variable \"contenido\" según sea necesario\n",
        "    print(contenido[:1000])  # Muestra las primeras 1000 caracteres\n",
        "except FileNotFoundError:\n",
        "    print(\"El archivo 'Features.txt' no se encuentra en el directorio actual.\")\n",
        "except Exception as e:\n",
        "    print(\"Se produjo un error al leer el archivo:\", str(e))\n"
      ]
    },
    {
      "cell_type": "code",
      "execution_count": null,
      "metadata": {
        "colab": {
          "base_uri": "https://localhost:8080/"
        },
        "id": "MuvtiJiQ16aZ",
        "outputId": "031fd388-a4f5-4a4f-e725-ba52bcf9c6c3"
      },
      "outputs": [
        {
          "output_type": "stream",
          "name": "stdout",
          "text": [
            "       1.0001e+005    13278  1  1.1   517  3043  1286  2305\n",
            "0         100010.0  13278.0  1    1    85  2731  1286  2305\n",
            "1         100010.0  13278.0  1    1   696  2345  1286  2305\n",
            "2         100010.0  13278.0  1    1   895  2362  1286  2305\n",
            "3         100010.0  13278.0  1    1   391  2280  1286  2305\n",
            "4         100010.0  13278.0  1    1   755  2087  1286  2305\n",
            "...            ...      ... ..  ...   ...   ...   ...   ...\n",
            "94724      99896.0   7741.0  0    0  2663   798  1501  1778\n",
            "94725      99896.0   7741.0  0    0  2180  2587  1501  1778\n",
            "94726      99896.0   7741.0  0    0  1926  1940  1501  1778\n",
            "94727      99896.0   7741.0  0    0  2002  1832  1501  1778\n",
            "94728      99896.0   7741.0  0    0  2365   865  1501  1778\n",
            "\n",
            "[94729 rows x 8 columns]\n"
          ]
        }
      ],
      "source": [
        "import pandas as pd\n",
        "\n",
        "# Lee el archivo \"Features.txt\" con separación por tabulaciones\n",
        "try:\n",
        "    df = pd.read_csv(\"/content/gdrive/Shareddrives/Seminario Posgrado/2023-2S/Features.txt\", sep=\"\\t\")\n",
        "    # Muestra el DataFrame\n",
        "    print(df)\n",
        "except FileNotFoundError:\n",
        "    print(\"El archivo 'Features.txt' no se encuentra en el directorio actual.\")\n",
        "except Exception as e:\n",
        "    print(\"Se produjo un error al leer el archivo:\", str(e))"
      ]
    },
    {
      "cell_type": "code",
      "execution_count": null,
      "metadata": {
        "colab": {
          "base_uri": "https://localhost:8080/",
          "height": 423
        },
        "id": "Y6yU7Caqy1KK",
        "outputId": "5ae2545a-28c1-4a1a-cda2-22663822b038"
      },
      "outputs": [
        {
          "output_type": "execute_result",
          "data": {
            "text/plain": [
              "            x_1      x_2  Class  x_3   x_4   x_5   x_6   x_7\n",
              "0      100010.0  13278.0      1    1    85  2731  1286  2305\n",
              "1      100010.0  13278.0      1    1   696  2345  1286  2305\n",
              "2      100010.0  13278.0      1    1   895  2362  1286  2305\n",
              "3      100010.0  13278.0      1    1   391  2280  1286  2305\n",
              "4      100010.0  13278.0      1    1   755  2087  1286  2305\n",
              "...         ...      ...    ...  ...   ...   ...   ...   ...\n",
              "94724   99896.0   7741.0      0    0  2663   798  1501  1778\n",
              "94725   99896.0   7741.0      0    0  2180  2587  1501  1778\n",
              "94726   99896.0   7741.0      0    0  1926  1940  1501  1778\n",
              "94727   99896.0   7741.0      0    0  2002  1832  1501  1778\n",
              "94728   99896.0   7741.0      0    0  2365   865  1501  1778\n",
              "\n",
              "[94729 rows x 8 columns]"
            ],
            "text/html": [
              "\n",
              "  <div id=\"df-0564a8e6-21b5-45d9-aa81-dcc01a9b4069\" class=\"colab-df-container\">\n",
              "    <div>\n",
              "<style scoped>\n",
              "    .dataframe tbody tr th:only-of-type {\n",
              "        vertical-align: middle;\n",
              "    }\n",
              "\n",
              "    .dataframe tbody tr th {\n",
              "        vertical-align: top;\n",
              "    }\n",
              "\n",
              "    .dataframe thead th {\n",
              "        text-align: right;\n",
              "    }\n",
              "</style>\n",
              "<table border=\"1\" class=\"dataframe\">\n",
              "  <thead>\n",
              "    <tr style=\"text-align: right;\">\n",
              "      <th></th>\n",
              "      <th>x_1</th>\n",
              "      <th>x_2</th>\n",
              "      <th>Class</th>\n",
              "      <th>x_3</th>\n",
              "      <th>x_4</th>\n",
              "      <th>x_5</th>\n",
              "      <th>x_6</th>\n",
              "      <th>x_7</th>\n",
              "    </tr>\n",
              "  </thead>\n",
              "  <tbody>\n",
              "    <tr>\n",
              "      <th>0</th>\n",
              "      <td>100010.0</td>\n",
              "      <td>13278.0</td>\n",
              "      <td>1</td>\n",
              "      <td>1</td>\n",
              "      <td>85</td>\n",
              "      <td>2731</td>\n",
              "      <td>1286</td>\n",
              "      <td>2305</td>\n",
              "    </tr>\n",
              "    <tr>\n",
              "      <th>1</th>\n",
              "      <td>100010.0</td>\n",
              "      <td>13278.0</td>\n",
              "      <td>1</td>\n",
              "      <td>1</td>\n",
              "      <td>696</td>\n",
              "      <td>2345</td>\n",
              "      <td>1286</td>\n",
              "      <td>2305</td>\n",
              "    </tr>\n",
              "    <tr>\n",
              "      <th>2</th>\n",
              "      <td>100010.0</td>\n",
              "      <td>13278.0</td>\n",
              "      <td>1</td>\n",
              "      <td>1</td>\n",
              "      <td>895</td>\n",
              "      <td>2362</td>\n",
              "      <td>1286</td>\n",
              "      <td>2305</td>\n",
              "    </tr>\n",
              "    <tr>\n",
              "      <th>3</th>\n",
              "      <td>100010.0</td>\n",
              "      <td>13278.0</td>\n",
              "      <td>1</td>\n",
              "      <td>1</td>\n",
              "      <td>391</td>\n",
              "      <td>2280</td>\n",
              "      <td>1286</td>\n",
              "      <td>2305</td>\n",
              "    </tr>\n",
              "    <tr>\n",
              "      <th>4</th>\n",
              "      <td>100010.0</td>\n",
              "      <td>13278.0</td>\n",
              "      <td>1</td>\n",
              "      <td>1</td>\n",
              "      <td>755</td>\n",
              "      <td>2087</td>\n",
              "      <td>1286</td>\n",
              "      <td>2305</td>\n",
              "    </tr>\n",
              "    <tr>\n",
              "      <th>...</th>\n",
              "      <td>...</td>\n",
              "      <td>...</td>\n",
              "      <td>...</td>\n",
              "      <td>...</td>\n",
              "      <td>...</td>\n",
              "      <td>...</td>\n",
              "      <td>...</td>\n",
              "      <td>...</td>\n",
              "    </tr>\n",
              "    <tr>\n",
              "      <th>94724</th>\n",
              "      <td>99896.0</td>\n",
              "      <td>7741.0</td>\n",
              "      <td>0</td>\n",
              "      <td>0</td>\n",
              "      <td>2663</td>\n",
              "      <td>798</td>\n",
              "      <td>1501</td>\n",
              "      <td>1778</td>\n",
              "    </tr>\n",
              "    <tr>\n",
              "      <th>94725</th>\n",
              "      <td>99896.0</td>\n",
              "      <td>7741.0</td>\n",
              "      <td>0</td>\n",
              "      <td>0</td>\n",
              "      <td>2180</td>\n",
              "      <td>2587</td>\n",
              "      <td>1501</td>\n",
              "      <td>1778</td>\n",
              "    </tr>\n",
              "    <tr>\n",
              "      <th>94726</th>\n",
              "      <td>99896.0</td>\n",
              "      <td>7741.0</td>\n",
              "      <td>0</td>\n",
              "      <td>0</td>\n",
              "      <td>1926</td>\n",
              "      <td>1940</td>\n",
              "      <td>1501</td>\n",
              "      <td>1778</td>\n",
              "    </tr>\n",
              "    <tr>\n",
              "      <th>94727</th>\n",
              "      <td>99896.0</td>\n",
              "      <td>7741.0</td>\n",
              "      <td>0</td>\n",
              "      <td>0</td>\n",
              "      <td>2002</td>\n",
              "      <td>1832</td>\n",
              "      <td>1501</td>\n",
              "      <td>1778</td>\n",
              "    </tr>\n",
              "    <tr>\n",
              "      <th>94728</th>\n",
              "      <td>99896.0</td>\n",
              "      <td>7741.0</td>\n",
              "      <td>0</td>\n",
              "      <td>0</td>\n",
              "      <td>2365</td>\n",
              "      <td>865</td>\n",
              "      <td>1501</td>\n",
              "      <td>1778</td>\n",
              "    </tr>\n",
              "  </tbody>\n",
              "</table>\n",
              "<p>94729 rows × 8 columns</p>\n",
              "</div>\n",
              "    <div class=\"colab-df-buttons\">\n",
              "\n",
              "  <div class=\"colab-df-container\">\n",
              "    <button class=\"colab-df-convert\" onclick=\"convertToInteractive('df-0564a8e6-21b5-45d9-aa81-dcc01a9b4069')\"\n",
              "            title=\"Convert this dataframe to an interactive table.\"\n",
              "            style=\"display:none;\">\n",
              "\n",
              "  <svg xmlns=\"http://www.w3.org/2000/svg\" height=\"24px\" viewBox=\"0 -960 960 960\">\n",
              "    <path d=\"M120-120v-720h720v720H120Zm60-500h600v-160H180v160Zm220 220h160v-160H400v160Zm0 220h160v-160H400v160ZM180-400h160v-160H180v160Zm440 0h160v-160H620v160ZM180-180h160v-160H180v160Zm440 0h160v-160H620v160Z\"/>\n",
              "  </svg>\n",
              "    </button>\n",
              "\n",
              "  <style>\n",
              "    .colab-df-container {\n",
              "      display:flex;\n",
              "      gap: 12px;\n",
              "    }\n",
              "\n",
              "    .colab-df-convert {\n",
              "      background-color: #E8F0FE;\n",
              "      border: none;\n",
              "      border-radius: 50%;\n",
              "      cursor: pointer;\n",
              "      display: none;\n",
              "      fill: #1967D2;\n",
              "      height: 32px;\n",
              "      padding: 0 0 0 0;\n",
              "      width: 32px;\n",
              "    }\n",
              "\n",
              "    .colab-df-convert:hover {\n",
              "      background-color: #E2EBFA;\n",
              "      box-shadow: 0px 1px 2px rgba(60, 64, 67, 0.3), 0px 1px 3px 1px rgba(60, 64, 67, 0.15);\n",
              "      fill: #174EA6;\n",
              "    }\n",
              "\n",
              "    .colab-df-buttons div {\n",
              "      margin-bottom: 4px;\n",
              "    }\n",
              "\n",
              "    [theme=dark] .colab-df-convert {\n",
              "      background-color: #3B4455;\n",
              "      fill: #D2E3FC;\n",
              "    }\n",
              "\n",
              "    [theme=dark] .colab-df-convert:hover {\n",
              "      background-color: #434B5C;\n",
              "      box-shadow: 0px 1px 3px 1px rgba(0, 0, 0, 0.15);\n",
              "      filter: drop-shadow(0px 1px 2px rgba(0, 0, 0, 0.3));\n",
              "      fill: #FFFFFF;\n",
              "    }\n",
              "  </style>\n",
              "\n",
              "    <script>\n",
              "      const buttonEl =\n",
              "        document.querySelector('#df-0564a8e6-21b5-45d9-aa81-dcc01a9b4069 button.colab-df-convert');\n",
              "      buttonEl.style.display =\n",
              "        google.colab.kernel.accessAllowed ? 'block' : 'none';\n",
              "\n",
              "      async function convertToInteractive(key) {\n",
              "        const element = document.querySelector('#df-0564a8e6-21b5-45d9-aa81-dcc01a9b4069');\n",
              "        const dataTable =\n",
              "          await google.colab.kernel.invokeFunction('convertToInteractive',\n",
              "                                                    [key], {});\n",
              "        if (!dataTable) return;\n",
              "\n",
              "        const docLinkHtml = 'Like what you see? Visit the ' +\n",
              "          '<a target=\"_blank\" href=https://colab.research.google.com/notebooks/data_table.ipynb>data table notebook</a>'\n",
              "          + ' to learn more about interactive tables.';\n",
              "        element.innerHTML = '';\n",
              "        dataTable['output_type'] = 'display_data';\n",
              "        await google.colab.output.renderOutput(dataTable, element);\n",
              "        const docLink = document.createElement('div');\n",
              "        docLink.innerHTML = docLinkHtml;\n",
              "        element.appendChild(docLink);\n",
              "      }\n",
              "    </script>\n",
              "  </div>\n",
              "\n",
              "\n",
              "<div id=\"df-606fa21c-3d6e-4747-b8cb-8c4ba3c38893\">\n",
              "  <button class=\"colab-df-quickchart\" onclick=\"quickchart('df-606fa21c-3d6e-4747-b8cb-8c4ba3c38893')\"\n",
              "            title=\"Suggest charts.\"\n",
              "            style=\"display:none;\">\n",
              "\n",
              "<svg xmlns=\"http://www.w3.org/2000/svg\" height=\"24px\"viewBox=\"0 0 24 24\"\n",
              "     width=\"24px\">\n",
              "    <g>\n",
              "        <path d=\"M19 3H5c-1.1 0-2 .9-2 2v14c0 1.1.9 2 2 2h14c1.1 0 2-.9 2-2V5c0-1.1-.9-2-2-2zM9 17H7v-7h2v7zm4 0h-2V7h2v10zm4 0h-2v-4h2v4z\"/>\n",
              "    </g>\n",
              "</svg>\n",
              "  </button>\n",
              "\n",
              "<style>\n",
              "  .colab-df-quickchart {\n",
              "      --bg-color: #E8F0FE;\n",
              "      --fill-color: #1967D2;\n",
              "      --hover-bg-color: #E2EBFA;\n",
              "      --hover-fill-color: #174EA6;\n",
              "      --disabled-fill-color: #AAA;\n",
              "      --disabled-bg-color: #DDD;\n",
              "  }\n",
              "\n",
              "  [theme=dark] .colab-df-quickchart {\n",
              "      --bg-color: #3B4455;\n",
              "      --fill-color: #D2E3FC;\n",
              "      --hover-bg-color: #434B5C;\n",
              "      --hover-fill-color: #FFFFFF;\n",
              "      --disabled-bg-color: #3B4455;\n",
              "      --disabled-fill-color: #666;\n",
              "  }\n",
              "\n",
              "  .colab-df-quickchart {\n",
              "    background-color: var(--bg-color);\n",
              "    border: none;\n",
              "    border-radius: 50%;\n",
              "    cursor: pointer;\n",
              "    display: none;\n",
              "    fill: var(--fill-color);\n",
              "    height: 32px;\n",
              "    padding: 0;\n",
              "    width: 32px;\n",
              "  }\n",
              "\n",
              "  .colab-df-quickchart:hover {\n",
              "    background-color: var(--hover-bg-color);\n",
              "    box-shadow: 0 1px 2px rgba(60, 64, 67, 0.3), 0 1px 3px 1px rgba(60, 64, 67, 0.15);\n",
              "    fill: var(--button-hover-fill-color);\n",
              "  }\n",
              "\n",
              "  .colab-df-quickchart-complete:disabled,\n",
              "  .colab-df-quickchart-complete:disabled:hover {\n",
              "    background-color: var(--disabled-bg-color);\n",
              "    fill: var(--disabled-fill-color);\n",
              "    box-shadow: none;\n",
              "  }\n",
              "\n",
              "  .colab-df-spinner {\n",
              "    border: 2px solid var(--fill-color);\n",
              "    border-color: transparent;\n",
              "    border-bottom-color: var(--fill-color);\n",
              "    animation:\n",
              "      spin 1s steps(1) infinite;\n",
              "  }\n",
              "\n",
              "  @keyframes spin {\n",
              "    0% {\n",
              "      border-color: transparent;\n",
              "      border-bottom-color: var(--fill-color);\n",
              "      border-left-color: var(--fill-color);\n",
              "    }\n",
              "    20% {\n",
              "      border-color: transparent;\n",
              "      border-left-color: var(--fill-color);\n",
              "      border-top-color: var(--fill-color);\n",
              "    }\n",
              "    30% {\n",
              "      border-color: transparent;\n",
              "      border-left-color: var(--fill-color);\n",
              "      border-top-color: var(--fill-color);\n",
              "      border-right-color: var(--fill-color);\n",
              "    }\n",
              "    40% {\n",
              "      border-color: transparent;\n",
              "      border-right-color: var(--fill-color);\n",
              "      border-top-color: var(--fill-color);\n",
              "    }\n",
              "    60% {\n",
              "      border-color: transparent;\n",
              "      border-right-color: var(--fill-color);\n",
              "    }\n",
              "    80% {\n",
              "      border-color: transparent;\n",
              "      border-right-color: var(--fill-color);\n",
              "      border-bottom-color: var(--fill-color);\n",
              "    }\n",
              "    90% {\n",
              "      border-color: transparent;\n",
              "      border-bottom-color: var(--fill-color);\n",
              "    }\n",
              "  }\n",
              "</style>\n",
              "\n",
              "  <script>\n",
              "    async function quickchart(key) {\n",
              "      const quickchartButtonEl =\n",
              "        document.querySelector('#' + key + ' button');\n",
              "      quickchartButtonEl.disabled = true;  // To prevent multiple clicks.\n",
              "      quickchartButtonEl.classList.add('colab-df-spinner');\n",
              "      try {\n",
              "        const charts = await google.colab.kernel.invokeFunction(\n",
              "            'suggestCharts', [key], {});\n",
              "      } catch (error) {\n",
              "        console.error('Error during call to suggestCharts:', error);\n",
              "      }\n",
              "      quickchartButtonEl.classList.remove('colab-df-spinner');\n",
              "      quickchartButtonEl.classList.add('colab-df-quickchart-complete');\n",
              "    }\n",
              "    (() => {\n",
              "      let quickchartButtonEl =\n",
              "        document.querySelector('#df-606fa21c-3d6e-4747-b8cb-8c4ba3c38893 button');\n",
              "      quickchartButtonEl.style.display =\n",
              "        google.colab.kernel.accessAllowed ? 'block' : 'none';\n",
              "    })();\n",
              "  </script>\n",
              "</div>\n",
              "    </div>\n",
              "  </div>\n"
            ]
          },
          "metadata": {},
          "execution_count": 5
        }
      ],
      "source": [
        "lineas = contenido.strip().split('\\n')\n",
        "\n",
        "# Divide cada línea en elementos separados por comas y crea una lista de listas\n",
        "datos = [linea.split(',') for linea in lineas]\n",
        "\n",
        "\n",
        "nombres_originales = df.columns\n",
        "\n",
        "\n",
        "nuevos_nombres = ['x_1','x_2','Class','x_3','x_4','x_5','x_6','x_7']\n",
        "\n",
        "# Asigna los nuevos nombres de columnas al DataFrame\n",
        "df.columns = nuevos_nombres\n",
        "\n",
        "# Cuenta la cantidad de NaN en la columna \"y\"\n",
        "\n",
        "df\n",
        "# Muestra la cantidad de NaN\n",
        "\n",
        "\n"
      ]
    },
    {
      "cell_type": "code",
      "execution_count": null,
      "metadata": {
        "colab": {
          "base_uri": "https://localhost:8080/"
        },
        "id": "Fqc93a3Y3nJK",
        "outputId": "7c17afa0-bb20-4d0c-fa7b-7c027616cd67"
      },
      "outputs": [
        {
          "output_type": "stream",
          "name": "stdout",
          "text": [
            "Dimensión de 'y': (94729,)\n"
          ]
        }
      ],
      "source": [
        "import numpy as np\n",
        "y=df[\"Class\"]\n",
        "y=np.array(y)\n",
        "x2=df.drop(['Class'], axis=1)\n",
        "\n",
        "# Obtén la dimensión de \"y\"\n",
        "dimension_y = y.shape\n",
        "\n",
        "# Muestra la dimensión\n",
        "print(\"Dimensión de 'y':\", dimension_y)"
      ]
    },
    {
      "cell_type": "markdown",
      "metadata": {
        "id": "RSbfhl3J31Hd"
      },
      "source": [
        "## **Algoritmo genético**"
      ]
    },
    {
      "cell_type": "code",
      "execution_count": null,
      "metadata": {
        "id": "vR2kk63x3-7r",
        "colab": {
          "base_uri": "https://localhost:8080/",
          "height": 1000
        },
        "outputId": "c7339e0d-30ad-4191-eeb3-a819a4005ce0"
      },
      "outputs": [
        {
          "output_type": "stream",
          "name": "stdout",
          "text": [
            "Traceback (most recent call last):\n",
            "\n",
            "^C\n"
          ]
        },
        {
          "output_type": "stream",
          "name": "stderr",
          "text": [
            "/usr/local/lib/python3.10/dist-packages/sklearn/linear_model/_logistic.py:458: ConvergenceWarning: lbfgs failed to converge (status=1):\n",
            "STOP: TOTAL NO. of ITERATIONS REACHED LIMIT.\n",
            "\n",
            "Increase the number of iterations (max_iter) or scale the data as shown in:\n",
            "    https://scikit-learn.org/stable/modules/preprocessing.html\n",
            "Please also refer to the documentation for alternative solver options:\n",
            "    https://scikit-learn.org/stable/modules/linear_model.html#logistic-regression\n",
            "  n_iter_i = _check_optimize_result(\n",
            "/usr/local/lib/python3.10/dist-packages/sklearn/linear_model/_logistic.py:458: ConvergenceWarning: lbfgs failed to converge (status=1):\n",
            "STOP: TOTAL NO. of ITERATIONS REACHED LIMIT.\n",
            "\n",
            "Increase the number of iterations (max_iter) or scale the data as shown in:\n",
            "    https://scikit-learn.org/stable/modules/preprocessing.html\n",
            "Please also refer to the documentation for alternative solver options:\n",
            "    https://scikit-learn.org/stable/modules/linear_model.html#logistic-regression\n",
            "  n_iter_i = _check_optimize_result(\n",
            "ERROR:root:Internal Python error in the inspect module.\n",
            "Below is the traceback from this internal error.\n",
            "\n"
          ]
        },
        {
          "output_type": "stream",
          "name": "stdout",
          "text": [
            "Traceback (most recent call last):\n",
            "  File \"/usr/local/lib/python3.10/dist-packages/IPython/core/interactiveshell.py\", line 3553, in run_code\n",
            "    exec(code_obj, self.user_global_ns, self.user_ns)\n",
            "  File \"<ipython-input-7-81599b5eba31>\", line 75, in <cell line: 72>\n",
            "    for fit, ind in zip(fits, offspring):\n",
            "  File \"<ipython-input-7-81599b5eba31>\", line 43, in fitness\n",
            "    model.fit(x2_train_selected, y_train)\n",
            "  File \"/usr/local/lib/python3.10/dist-packages/sklearn/linear_model/_logistic.py\", line 1291, in fit\n",
            "    fold_coefs_ = Parallel(n_jobs=self.n_jobs, verbose=self.verbose, prefer=prefer)(\n",
            "  File \"/usr/local/lib/python3.10/dist-packages/sklearn/utils/parallel.py\", line 63, in __call__\n",
            "    return super().__call__(iterable_with_config)\n",
            "  File \"/usr/local/lib/python3.10/dist-packages/joblib/parallel.py\", line 1863, in __call__\n",
            "    return output if self.return_generator else list(output)\n",
            "  File \"/usr/local/lib/python3.10/dist-packages/joblib/parallel.py\", line 1792, in _get_sequential_output\n",
            "    res = func(*args, **kwargs)\n",
            "  File \"/usr/local/lib/python3.10/dist-packages/sklearn/utils/parallel.py\", line 123, in __call__\n",
            "    return self.function(*args, **kwargs)\n",
            "  File \"/usr/local/lib/python3.10/dist-packages/sklearn/linear_model/_logistic.py\", line 450, in _logistic_regression_path\n",
            "    opt_res = optimize.minimize(\n",
            "  File \"/usr/local/lib/python3.10/dist-packages/scipy/optimize/_minimize.py\", line 710, in minimize\n",
            "    res = _minimize_lbfgsb(fun, x0, args, jac, bounds,\n",
            "  File \"/usr/local/lib/python3.10/dist-packages/scipy/optimize/_lbfgsb_py.py\", line 356, in _minimize_lbfgsb\n",
            "    _lbfgsb.setulb(m, x, low_bnd, upper_bnd, nbd, f, g, factr,\n",
            "KeyboardInterrupt\n",
            "\n",
            "During handling of the above exception, another exception occurred:\n",
            "\n",
            "Traceback (most recent call last):\n",
            "  File \"/usr/local/lib/python3.10/dist-packages/IPython/core/interactiveshell.py\", line 2099, in showtraceback\n",
            "    stb = value._render_traceback_()\n",
            "AttributeError: 'KeyboardInterrupt' object has no attribute '_render_traceback_'\n",
            "\n",
            "During handling of the above exception, another exception occurred:\n",
            "\n",
            "Traceback (most recent call last):\n",
            "  File \"/usr/local/lib/python3.10/dist-packages/IPython/core/ultratb.py\", line 1101, in get_records\n",
            "    return _fixed_getinnerframes(etb, number_of_lines_of_context, tb_offset)\n",
            "  File \"/usr/local/lib/python3.10/dist-packages/IPython/core/ultratb.py\", line 248, in wrapped\n",
            "    return f(*args, **kwargs)\n",
            "  File \"/usr/local/lib/python3.10/dist-packages/IPython/core/ultratb.py\", line 281, in _fixed_getinnerframes\n",
            "    records = fix_frame_records_filenames(inspect.getinnerframes(etb, context))\n",
            "  File \"/usr/lib/python3.10/inspect.py\", line 1662, in getinnerframes\n",
            "    frameinfo = (tb.tb_frame,) + getframeinfo(tb, context)\n",
            "  File \"/usr/lib/python3.10/inspect.py\", line 1620, in getframeinfo\n",
            "    filename = getsourcefile(frame) or getfile(frame)\n",
            "  File \"/usr/lib/python3.10/inspect.py\", line 829, in getsourcefile\n",
            "    module = getmodule(object, filename)\n",
            "  File \"/usr/lib/python3.10/inspect.py\", line 875, in getmodule\n",
            "    f = getabsfile(module)\n",
            "  File \"/usr/lib/python3.10/inspect.py\", line 844, in getabsfile\n",
            "    _filename = getsourcefile(object) or getfile(object)\n",
            "  File \"/usr/lib/python3.10/inspect.py\", line 826, in getsourcefile\n",
            "    if os.path.exists(filename):\n",
            "  File \"/usr/lib/python3.10/genericpath.py\", line 19, in exists\n",
            "    os.stat(path)\n",
            "KeyboardInterrupt\n"
          ]
        },
        {
          "output_type": "error",
          "ename": "TypeError",
          "evalue": "ignored",
          "traceback": [
            "\u001b[0;31m---------------------------------------------------------------------------\u001b[0m",
            "\u001b[0;31mKeyboardInterrupt\u001b[0m                         Traceback (most recent call last)",
            "    \u001b[0;31m[... skipping hidden 1 frame]\u001b[0m\n",
            "\u001b[0;32m<ipython-input-7-81599b5eba31>\u001b[0m in \u001b[0;36m<cell line: 72>\u001b[0;34m()\u001b[0m\n\u001b[1;32m     74\u001b[0m     \u001b[0mfits\u001b[0m \u001b[0;34m=\u001b[0m \u001b[0mtoolbox\u001b[0m\u001b[0;34m.\u001b[0m\u001b[0mmap\u001b[0m\u001b[0;34m(\u001b[0m\u001b[0mtoolbox\u001b[0m\u001b[0;34m.\u001b[0m\u001b[0mevaluate\u001b[0m\u001b[0;34m,\u001b[0m \u001b[0moffspring\u001b[0m\u001b[0;34m)\u001b[0m\u001b[0;34m\u001b[0m\u001b[0;34m\u001b[0m\u001b[0m\n\u001b[0;32m---> 75\u001b[0;31m     \u001b[0;32mfor\u001b[0m \u001b[0mfit\u001b[0m\u001b[0;34m,\u001b[0m \u001b[0mind\u001b[0m \u001b[0;32min\u001b[0m \u001b[0mzip\u001b[0m\u001b[0;34m(\u001b[0m\u001b[0mfits\u001b[0m\u001b[0;34m,\u001b[0m \u001b[0moffspring\u001b[0m\u001b[0;34m)\u001b[0m\u001b[0;34m:\u001b[0m\u001b[0;34m\u001b[0m\u001b[0;34m\u001b[0m\u001b[0m\n\u001b[0m\u001b[1;32m     76\u001b[0m         \u001b[0mind\u001b[0m\u001b[0;34m.\u001b[0m\u001b[0mfitness\u001b[0m\u001b[0;34m.\u001b[0m\u001b[0mvalues\u001b[0m \u001b[0;34m=\u001b[0m \u001b[0mfit\u001b[0m\u001b[0;34m\u001b[0m\u001b[0;34m\u001b[0m\u001b[0m\n",
            "\u001b[0;32m<ipython-input-7-81599b5eba31>\u001b[0m in \u001b[0;36mfitness\u001b[0;34m(individual)\u001b[0m\n\u001b[1;32m     42\u001b[0m     \u001b[0mmodel\u001b[0m \u001b[0;34m=\u001b[0m \u001b[0mLogisticRegression\u001b[0m\u001b[0;34m(\u001b[0m\u001b[0;34m)\u001b[0m\u001b[0;34m\u001b[0m\u001b[0;34m\u001b[0m\u001b[0m\n\u001b[0;32m---> 43\u001b[0;31m     \u001b[0mmodel\u001b[0m\u001b[0;34m.\u001b[0m\u001b[0mfit\u001b[0m\u001b[0;34m(\u001b[0m\u001b[0mx2_train_selected\u001b[0m\u001b[0;34m,\u001b[0m \u001b[0my_train\u001b[0m\u001b[0;34m)\u001b[0m\u001b[0;34m\u001b[0m\u001b[0;34m\u001b[0m\u001b[0m\n\u001b[0m\u001b[1;32m     44\u001b[0m \u001b[0;34m\u001b[0m\u001b[0m\n",
            "\u001b[0;32m/usr/local/lib/python3.10/dist-packages/sklearn/linear_model/_logistic.py\u001b[0m in \u001b[0;36mfit\u001b[0;34m(self, X, y, sample_weight)\u001b[0m\n\u001b[1;32m   1290\u001b[0m \u001b[0;34m\u001b[0m\u001b[0m\n\u001b[0;32m-> 1291\u001b[0;31m         fold_coefs_ = Parallel(n_jobs=self.n_jobs, verbose=self.verbose, prefer=prefer)(\n\u001b[0m\u001b[1;32m   1292\u001b[0m             path_func(\n",
            "\u001b[0;32m/usr/local/lib/python3.10/dist-packages/sklearn/utils/parallel.py\u001b[0m in \u001b[0;36m__call__\u001b[0;34m(self, iterable)\u001b[0m\n\u001b[1;32m     62\u001b[0m         )\n\u001b[0;32m---> 63\u001b[0;31m         \u001b[0;32mreturn\u001b[0m \u001b[0msuper\u001b[0m\u001b[0;34m(\u001b[0m\u001b[0;34m)\u001b[0m\u001b[0;34m.\u001b[0m\u001b[0m__call__\u001b[0m\u001b[0;34m(\u001b[0m\u001b[0miterable_with_config\u001b[0m\u001b[0;34m)\u001b[0m\u001b[0;34m\u001b[0m\u001b[0;34m\u001b[0m\u001b[0m\n\u001b[0m\u001b[1;32m     64\u001b[0m \u001b[0;34m\u001b[0m\u001b[0m\n",
            "\u001b[0;32m/usr/local/lib/python3.10/dist-packages/joblib/parallel.py\u001b[0m in \u001b[0;36m__call__\u001b[0;34m(self, iterable)\u001b[0m\n\u001b[1;32m   1862\u001b[0m             \u001b[0mnext\u001b[0m\u001b[0;34m(\u001b[0m\u001b[0moutput\u001b[0m\u001b[0;34m)\u001b[0m\u001b[0;34m\u001b[0m\u001b[0;34m\u001b[0m\u001b[0m\n\u001b[0;32m-> 1863\u001b[0;31m             \u001b[0;32mreturn\u001b[0m \u001b[0moutput\u001b[0m \u001b[0;32mif\u001b[0m \u001b[0mself\u001b[0m\u001b[0;34m.\u001b[0m\u001b[0mreturn_generator\u001b[0m \u001b[0;32melse\u001b[0m \u001b[0mlist\u001b[0m\u001b[0;34m(\u001b[0m\u001b[0moutput\u001b[0m\u001b[0;34m)\u001b[0m\u001b[0;34m\u001b[0m\u001b[0;34m\u001b[0m\u001b[0m\n\u001b[0m\u001b[1;32m   1864\u001b[0m \u001b[0;34m\u001b[0m\u001b[0m\n",
            "\u001b[0;32m/usr/local/lib/python3.10/dist-packages/joblib/parallel.py\u001b[0m in \u001b[0;36m_get_sequential_output\u001b[0;34m(self, iterable)\u001b[0m\n\u001b[1;32m   1791\u001b[0m                 \u001b[0mself\u001b[0m\u001b[0;34m.\u001b[0m\u001b[0mn_dispatched_tasks\u001b[0m \u001b[0;34m+=\u001b[0m \u001b[0;36m1\u001b[0m\u001b[0;34m\u001b[0m\u001b[0;34m\u001b[0m\u001b[0m\n\u001b[0;32m-> 1792\u001b[0;31m                 \u001b[0mres\u001b[0m \u001b[0;34m=\u001b[0m \u001b[0mfunc\u001b[0m\u001b[0;34m(\u001b[0m\u001b[0;34m*\u001b[0m\u001b[0margs\u001b[0m\u001b[0;34m,\u001b[0m \u001b[0;34m**\u001b[0m\u001b[0mkwargs\u001b[0m\u001b[0;34m)\u001b[0m\u001b[0;34m\u001b[0m\u001b[0;34m\u001b[0m\u001b[0m\n\u001b[0m\u001b[1;32m   1793\u001b[0m                 \u001b[0mself\u001b[0m\u001b[0;34m.\u001b[0m\u001b[0mn_completed_tasks\u001b[0m \u001b[0;34m+=\u001b[0m \u001b[0;36m1\u001b[0m\u001b[0;34m\u001b[0m\u001b[0;34m\u001b[0m\u001b[0m\n",
            "\u001b[0;32m/usr/local/lib/python3.10/dist-packages/sklearn/utils/parallel.py\u001b[0m in \u001b[0;36m__call__\u001b[0;34m(self, *args, **kwargs)\u001b[0m\n\u001b[1;32m    122\u001b[0m         \u001b[0;32mwith\u001b[0m \u001b[0mconfig_context\u001b[0m\u001b[0;34m(\u001b[0m\u001b[0;34m**\u001b[0m\u001b[0mconfig\u001b[0m\u001b[0;34m)\u001b[0m\u001b[0;34m:\u001b[0m\u001b[0;34m\u001b[0m\u001b[0;34m\u001b[0m\u001b[0m\n\u001b[0;32m--> 123\u001b[0;31m             \u001b[0;32mreturn\u001b[0m \u001b[0mself\u001b[0m\u001b[0;34m.\u001b[0m\u001b[0mfunction\u001b[0m\u001b[0;34m(\u001b[0m\u001b[0;34m*\u001b[0m\u001b[0margs\u001b[0m\u001b[0;34m,\u001b[0m \u001b[0;34m**\u001b[0m\u001b[0mkwargs\u001b[0m\u001b[0;34m)\u001b[0m\u001b[0;34m\u001b[0m\u001b[0;34m\u001b[0m\u001b[0m\n\u001b[0m",
            "\u001b[0;32m/usr/local/lib/python3.10/dist-packages/sklearn/linear_model/_logistic.py\u001b[0m in \u001b[0;36m_logistic_regression_path\u001b[0;34m(X, y, pos_class, Cs, fit_intercept, max_iter, tol, verbose, solver, coef, class_weight, dual, penalty, intercept_scaling, multi_class, random_state, check_input, max_squared_sum, sample_weight, l1_ratio, n_threads)\u001b[0m\n\u001b[1;32m    449\u001b[0m             ]\n\u001b[0;32m--> 450\u001b[0;31m             opt_res = optimize.minimize(\n\u001b[0m\u001b[1;32m    451\u001b[0m                 \u001b[0mfunc\u001b[0m\u001b[0;34m,\u001b[0m\u001b[0;34m\u001b[0m\u001b[0;34m\u001b[0m\u001b[0m\n",
            "\u001b[0;32m/usr/local/lib/python3.10/dist-packages/scipy/optimize/_minimize.py\u001b[0m in \u001b[0;36mminimize\u001b[0;34m(fun, x0, args, method, jac, hess, hessp, bounds, constraints, tol, callback, options)\u001b[0m\n\u001b[1;32m    709\u001b[0m     \u001b[0;32melif\u001b[0m \u001b[0mmeth\u001b[0m \u001b[0;34m==\u001b[0m \u001b[0;34m'l-bfgs-b'\u001b[0m\u001b[0;34m:\u001b[0m\u001b[0;34m\u001b[0m\u001b[0;34m\u001b[0m\u001b[0m\n\u001b[0;32m--> 710\u001b[0;31m         res = _minimize_lbfgsb(fun, x0, args, jac, bounds,\n\u001b[0m\u001b[1;32m    711\u001b[0m                                callback=callback, **options)\n",
            "\u001b[0;32m/usr/local/lib/python3.10/dist-packages/scipy/optimize/_lbfgsb_py.py\u001b[0m in \u001b[0;36m_minimize_lbfgsb\u001b[0;34m(fun, x0, args, jac, bounds, disp, maxcor, ftol, gtol, eps, maxfun, maxiter, iprint, callback, maxls, finite_diff_rel_step, **unknown_options)\u001b[0m\n\u001b[1;32m    355\u001b[0m         \u001b[0;31m# x, f, g, wa, iwa, task, csave, lsave, isave, dsave = \\\u001b[0m\u001b[0;34m\u001b[0m\u001b[0;34m\u001b[0m\u001b[0m\n\u001b[0;32m--> 356\u001b[0;31m         _lbfgsb.setulb(m, x, low_bnd, upper_bnd, nbd, f, g, factr,\n\u001b[0m\u001b[1;32m    357\u001b[0m                        \u001b[0mpgtol\u001b[0m\u001b[0;34m,\u001b[0m \u001b[0mwa\u001b[0m\u001b[0;34m,\u001b[0m \u001b[0miwa\u001b[0m\u001b[0;34m,\u001b[0m \u001b[0mtask\u001b[0m\u001b[0;34m,\u001b[0m \u001b[0miprint\u001b[0m\u001b[0;34m,\u001b[0m \u001b[0mcsave\u001b[0m\u001b[0;34m,\u001b[0m \u001b[0mlsave\u001b[0m\u001b[0;34m,\u001b[0m\u001b[0;34m\u001b[0m\u001b[0;34m\u001b[0m\u001b[0m\n",
            "\u001b[0;31mKeyboardInterrupt\u001b[0m: ",
            "\nDuring handling of the above exception, another exception occurred:\n",
            "\u001b[0;31mAttributeError\u001b[0m                            Traceback (most recent call last)",
            "\u001b[0;32m/usr/local/lib/python3.10/dist-packages/IPython/core/interactiveshell.py\u001b[0m in \u001b[0;36mshowtraceback\u001b[0;34m(self, exc_tuple, filename, tb_offset, exception_only, running_compiled_code)\u001b[0m\n\u001b[1;32m   2098\u001b[0m                         \u001b[0;31m# in the engines. This should return a list of strings.\u001b[0m\u001b[0;34m\u001b[0m\u001b[0;34m\u001b[0m\u001b[0m\n\u001b[0;32m-> 2099\u001b[0;31m                         \u001b[0mstb\u001b[0m \u001b[0;34m=\u001b[0m \u001b[0mvalue\u001b[0m\u001b[0;34m.\u001b[0m\u001b[0m_render_traceback_\u001b[0m\u001b[0;34m(\u001b[0m\u001b[0;34m)\u001b[0m\u001b[0;34m\u001b[0m\u001b[0;34m\u001b[0m\u001b[0m\n\u001b[0m\u001b[1;32m   2100\u001b[0m                     \u001b[0;32mexcept\u001b[0m \u001b[0mException\u001b[0m\u001b[0;34m:\u001b[0m\u001b[0;34m\u001b[0m\u001b[0;34m\u001b[0m\u001b[0m\n",
            "\u001b[0;31mAttributeError\u001b[0m: 'KeyboardInterrupt' object has no attribute '_render_traceback_'",
            "\nDuring handling of the above exception, another exception occurred:\n",
            "\u001b[0;31mTypeError\u001b[0m                                 Traceback (most recent call last)",
            "    \u001b[0;31m[... skipping hidden 1 frame]\u001b[0m\n",
            "\u001b[0;32m/usr/local/lib/python3.10/dist-packages/IPython/core/interactiveshell.py\u001b[0m in \u001b[0;36mshowtraceback\u001b[0;34m(self, exc_tuple, filename, tb_offset, exception_only, running_compiled_code)\u001b[0m\n\u001b[1;32m   2099\u001b[0m                         \u001b[0mstb\u001b[0m \u001b[0;34m=\u001b[0m \u001b[0mvalue\u001b[0m\u001b[0;34m.\u001b[0m\u001b[0m_render_traceback_\u001b[0m\u001b[0;34m(\u001b[0m\u001b[0;34m)\u001b[0m\u001b[0;34m\u001b[0m\u001b[0;34m\u001b[0m\u001b[0m\n\u001b[1;32m   2100\u001b[0m                     \u001b[0;32mexcept\u001b[0m \u001b[0mException\u001b[0m\u001b[0;34m:\u001b[0m\u001b[0;34m\u001b[0m\u001b[0;34m\u001b[0m\u001b[0m\n\u001b[0;32m-> 2101\u001b[0;31m                         stb = self.InteractiveTB.structured_traceback(etype,\n\u001b[0m\u001b[1;32m   2102\u001b[0m                                             value, tb, tb_offset=tb_offset)\n\u001b[1;32m   2103\u001b[0m \u001b[0;34m\u001b[0m\u001b[0m\n",
            "\u001b[0;32m/usr/local/lib/python3.10/dist-packages/IPython/core/ultratb.py\u001b[0m in \u001b[0;36mstructured_traceback\u001b[0;34m(self, etype, value, tb, tb_offset, number_of_lines_of_context)\u001b[0m\n\u001b[1;32m   1365\u001b[0m         \u001b[0;32melse\u001b[0m\u001b[0;34m:\u001b[0m\u001b[0;34m\u001b[0m\u001b[0;34m\u001b[0m\u001b[0m\n\u001b[1;32m   1366\u001b[0m             \u001b[0mself\u001b[0m\u001b[0;34m.\u001b[0m\u001b[0mtb\u001b[0m \u001b[0;34m=\u001b[0m \u001b[0mtb\u001b[0m\u001b[0;34m\u001b[0m\u001b[0;34m\u001b[0m\u001b[0m\n\u001b[0;32m-> 1367\u001b[0;31m         return FormattedTB.structured_traceback(\n\u001b[0m\u001b[1;32m   1368\u001b[0m             self, etype, value, tb, tb_offset, number_of_lines_of_context)\n\u001b[1;32m   1369\u001b[0m \u001b[0;34m\u001b[0m\u001b[0m\n",
            "\u001b[0;32m/usr/local/lib/python3.10/dist-packages/IPython/core/ultratb.py\u001b[0m in \u001b[0;36mstructured_traceback\u001b[0;34m(self, etype, value, tb, tb_offset, number_of_lines_of_context)\u001b[0m\n\u001b[1;32m   1265\u001b[0m         \u001b[0;32mif\u001b[0m \u001b[0mmode\u001b[0m \u001b[0;32min\u001b[0m \u001b[0mself\u001b[0m\u001b[0;34m.\u001b[0m\u001b[0mverbose_modes\u001b[0m\u001b[0;34m:\u001b[0m\u001b[0;34m\u001b[0m\u001b[0;34m\u001b[0m\u001b[0m\n\u001b[1;32m   1266\u001b[0m             \u001b[0;31m# Verbose modes need a full traceback\u001b[0m\u001b[0;34m\u001b[0m\u001b[0;34m\u001b[0m\u001b[0m\n\u001b[0;32m-> 1267\u001b[0;31m             return VerboseTB.structured_traceback(\n\u001b[0m\u001b[1;32m   1268\u001b[0m                 \u001b[0mself\u001b[0m\u001b[0;34m,\u001b[0m \u001b[0metype\u001b[0m\u001b[0;34m,\u001b[0m \u001b[0mvalue\u001b[0m\u001b[0;34m,\u001b[0m \u001b[0mtb\u001b[0m\u001b[0;34m,\u001b[0m \u001b[0mtb_offset\u001b[0m\u001b[0;34m,\u001b[0m \u001b[0mnumber_of_lines_of_context\u001b[0m\u001b[0;34m\u001b[0m\u001b[0;34m\u001b[0m\u001b[0m\n\u001b[1;32m   1269\u001b[0m             )\n",
            "\u001b[0;32m/usr/local/lib/python3.10/dist-packages/IPython/core/ultratb.py\u001b[0m in \u001b[0;36mstructured_traceback\u001b[0;34m(self, etype, evalue, etb, tb_offset, number_of_lines_of_context)\u001b[0m\n\u001b[1;32m   1122\u001b[0m         \u001b[0;34m\"\"\"Return a nice text document describing the traceback.\"\"\"\u001b[0m\u001b[0;34m\u001b[0m\u001b[0;34m\u001b[0m\u001b[0m\n\u001b[1;32m   1123\u001b[0m \u001b[0;34m\u001b[0m\u001b[0m\n\u001b[0;32m-> 1124\u001b[0;31m         formatted_exception = self.format_exception_as_a_whole(etype, evalue, etb, number_of_lines_of_context,\n\u001b[0m\u001b[1;32m   1125\u001b[0m                                                                tb_offset)\n\u001b[1;32m   1126\u001b[0m \u001b[0;34m\u001b[0m\u001b[0m\n",
            "\u001b[0;32m/usr/local/lib/python3.10/dist-packages/IPython/core/ultratb.py\u001b[0m in \u001b[0;36mformat_exception_as_a_whole\u001b[0;34m(self, etype, evalue, etb, number_of_lines_of_context, tb_offset)\u001b[0m\n\u001b[1;32m   1080\u001b[0m \u001b[0;34m\u001b[0m\u001b[0m\n\u001b[1;32m   1081\u001b[0m \u001b[0;34m\u001b[0m\u001b[0m\n\u001b[0;32m-> 1082\u001b[0;31m         \u001b[0mlast_unique\u001b[0m\u001b[0;34m,\u001b[0m \u001b[0mrecursion_repeat\u001b[0m \u001b[0;34m=\u001b[0m \u001b[0mfind_recursion\u001b[0m\u001b[0;34m(\u001b[0m\u001b[0morig_etype\u001b[0m\u001b[0;34m,\u001b[0m \u001b[0mevalue\u001b[0m\u001b[0;34m,\u001b[0m \u001b[0mrecords\u001b[0m\u001b[0;34m)\u001b[0m\u001b[0;34m\u001b[0m\u001b[0;34m\u001b[0m\u001b[0m\n\u001b[0m\u001b[1;32m   1083\u001b[0m \u001b[0;34m\u001b[0m\u001b[0m\n\u001b[1;32m   1084\u001b[0m         \u001b[0mframes\u001b[0m \u001b[0;34m=\u001b[0m \u001b[0mself\u001b[0m\u001b[0;34m.\u001b[0m\u001b[0mformat_records\u001b[0m\u001b[0;34m(\u001b[0m\u001b[0mrecords\u001b[0m\u001b[0;34m,\u001b[0m \u001b[0mlast_unique\u001b[0m\u001b[0;34m,\u001b[0m \u001b[0mrecursion_repeat\u001b[0m\u001b[0;34m)\u001b[0m\u001b[0;34m\u001b[0m\u001b[0;34m\u001b[0m\u001b[0m\n",
            "\u001b[0;32m/usr/local/lib/python3.10/dist-packages/IPython/core/ultratb.py\u001b[0m in \u001b[0;36mfind_recursion\u001b[0;34m(etype, value, records)\u001b[0m\n\u001b[1;32m    380\u001b[0m     \u001b[0;31m# first frame (from in to out) that looks different.\u001b[0m\u001b[0;34m\u001b[0m\u001b[0;34m\u001b[0m\u001b[0m\n\u001b[1;32m    381\u001b[0m     \u001b[0;32mif\u001b[0m \u001b[0;32mnot\u001b[0m \u001b[0mis_recursion_error\u001b[0m\u001b[0;34m(\u001b[0m\u001b[0metype\u001b[0m\u001b[0;34m,\u001b[0m \u001b[0mvalue\u001b[0m\u001b[0;34m,\u001b[0m \u001b[0mrecords\u001b[0m\u001b[0;34m)\u001b[0m\u001b[0;34m:\u001b[0m\u001b[0;34m\u001b[0m\u001b[0;34m\u001b[0m\u001b[0m\n\u001b[0;32m--> 382\u001b[0;31m         \u001b[0;32mreturn\u001b[0m \u001b[0mlen\u001b[0m\u001b[0;34m(\u001b[0m\u001b[0mrecords\u001b[0m\u001b[0;34m)\u001b[0m\u001b[0;34m,\u001b[0m \u001b[0;36m0\u001b[0m\u001b[0;34m\u001b[0m\u001b[0;34m\u001b[0m\u001b[0m\n\u001b[0m\u001b[1;32m    383\u001b[0m \u001b[0;34m\u001b[0m\u001b[0m\n\u001b[1;32m    384\u001b[0m     \u001b[0;31m# Select filename, lineno, func_name to track frames with\u001b[0m\u001b[0;34m\u001b[0m\u001b[0;34m\u001b[0m\u001b[0m\n",
            "\u001b[0;31mTypeError\u001b[0m: object of type 'NoneType' has no len()"
          ]
        }
      ],
      "source": [
        "import random\n",
        "import numpy as np\n",
        "!pip install deap\n",
        "from deap import base, creator, tools, algorithms\n",
        "from sklearn.model_selection import train_test_split\n",
        "from sklearn.linear_model import LogisticRegression\n",
        "from sklearn.metrics import mean_squared_error\n",
        "import time\n",
        "\n",
        "\n",
        "#Tambíen veremos el tiempo de ejecución\n",
        "inicio = time.time()\n",
        "\n",
        "# Genera datos de ejemplo (reemplaza esto con tus propios datos)\n",
        "y=np.array(y)\n",
        "x2=df.drop(['Class'], axis=1)\n",
        "n_features=7\n",
        "\n",
        "\n",
        "# Divide los datos en conjuntos de entrenamiento y prueba\n",
        "x2_train, x2_test, y_train, y_test = train_test_split(x2, y)\n",
        "\n",
        "# Define la función de aptitud\n",
        "def fitness(individual):\n",
        "    # individual es una lista de 0s y 1s que representan las variables explicativas seleccionadas\n",
        "    selected_features = [i for i, select in enumerate(individual) if select]\n",
        "\n",
        "    if not selected_features:\n",
        "        return float(\"inf\"),  # Si no se seleccionan variables, devolvemos un valor alto de MSE\n",
        "\n",
        "    # Selecciona las columnas correspondientes a las variables seleccionadas\n",
        "\n",
        "    # Convierte los DataFrames de Pandas en matrices NumPy\n",
        "    x2_train_np = x2_train.to_numpy()\n",
        "    x2_test_np = x2_test.to_numpy()\n",
        "\n",
        "\n",
        "    x2_train_selected = x2_train_np[:, selected_features]\n",
        "    x2_test_selected = x2_test_np[:, selected_features]\n",
        "\n",
        "    # Entrena un modelo de regresión logística\n",
        "    model = LogisticRegression()\n",
        "    model.fit(x2_train_selected, y_train)\n",
        "\n",
        "    # Realiza predicciones en el conjunto de prueba\n",
        "    y_pred = model.predict(x2_test_selected)\n",
        "\n",
        "    # Calcula el error cuadrático medio (MSE)\n",
        "    mse = mean_squared_error(y_test, y_pred)\n",
        "\n",
        "    return mse,\n",
        "\n",
        "# Configura DEAP\n",
        "creator.create(\"FitnessMin\", base.Fitness, weights=(-1.0,))\n",
        "creator.create(\"Individual\", list, fitness=creator.FitnessMin)\n",
        "\n",
        "toolbox = base.Toolbox()\n",
        "toolbox.register(\"attr_bool\", random.randint, 0, 1)  # Variables explicativas seleccionadas (0 o 1)\n",
        "toolbox.register(\"individual\", tools.initRepeat, creator.Individual, toolbox.attr_bool, n_features)\n",
        "toolbox.register(\"population\", tools.initRepeat, list, toolbox.individual)\n",
        "\n",
        "toolbox.register(\"evaluate\", fitness)\n",
        "toolbox.register(\"mate\", tools.cxTwoPoint)\n",
        "toolbox.register(\"mutate\", tools.mutFlipBit, indpb=0.05)\n",
        "toolbox.register(\"select\", tools.selTournament, tournsize=3)\n",
        "\n",
        "# Crea una población inicial\n",
        "population = toolbox.population(n=50)\n",
        "\n",
        "# Ejecuta el algoritmo genético\n",
        "n_generations = 20\n",
        "for generation in range(n_generations):\n",
        "    offspring = algorithms.varAnd(population, toolbox, cxpb=0.7, mutpb=0.2)\n",
        "    fits = toolbox.map(toolbox.evaluate, offspring)\n",
        "    for fit, ind in zip(fits, offspring):\n",
        "        ind.fitness.values = fit\n",
        "    population = toolbox.select(offspring, k=len(population))\n",
        "\n",
        "# Obtiene el mejor individuo\n",
        "best_individual = tools.selBest(population, k=1)[0]\n",
        "best_features = [i for i, select in enumerate(best_individual) if select]\n",
        "\n",
        "fin = time.time()\n",
        "print('\\n El algortimo genético entregó las mejores características en ',round(fin-inicio,4),'segundos \\n')\n",
        "\n",
        "print(\"Mejor conjunto de variables explicativas:\", best_features)"
      ]
    },
    {
      "cell_type": "markdown",
      "metadata": {
        "id": "ULTK191rIPok"
      },
      "source": [
        "##**Configuramos los modelos**"
      ]
    },
    {
      "cell_type": "markdown",
      "metadata": {
        "id": "wneEaMnxIGdq"
      },
      "source": [
        "### **Primero usamos todas las variables**"
      ]
    },
    {
      "cell_type": "code",
      "execution_count": null,
      "metadata": {
        "id": "8vb7lkszIWG3"
      },
      "outputs": [],
      "source": [
        "import time\n",
        "\n",
        "# LLamamos nuevamente al conjuto de datos\n",
        "y=df[\"Class\"]\n",
        "y=np.array(y)\n",
        "x=df.drop(['Class'], axis=1)\n",
        "a = np.array(x)\n",
        "\n",
        "# Escalamos los datos para poder trabajar con ellos\n",
        "scaler = MinMaxScaler()\n",
        "scaler.fit(x)\n",
        "x2=scaler.transform(x)\n",
        "\n",
        "# Creamos los modelos con cada uno de los Kernel seleccionados\n",
        "clf_lin = SVC(kernel='linear', max_iter=-1)\n",
        "clf_poly = SVC(kernel='poly', max_iter=-1)\n",
        "clf_rad = SVC(kernel='rbf', max_iter=-1)\n",
        "clf_sig = SVC(kernel='sigmoid', max_iter=-1)\n",
        "\n",
        "# Ajustamos los modelos con los datos seleccionados y hallamos las predicciones, así como las diferencias entre el ajuste del modelo y los valores reales\n",
        "inicio_lin = time.time()\n",
        "clf_lin.fit(x2, y)\n",
        "pred_lin=clf_lin.predict(x2)\n",
        "dif_lin=(pred_lin-y)\n",
        "fin_lin = time.time()\n",
        "\n",
        "inicio_poly = time.time()\n",
        "clf_poly.fit(x2, y)\n",
        "pred_poly=clf_poly.predict(x2)\n",
        "dif_poly=(pred_poly-y)\n",
        "fin_poly = time.time()\n",
        "\n",
        "inicio_rad = time.time()\n",
        "clf_rad.fit(x2, y)\n",
        "pred_rad=clf_rad.predict(x2)\n",
        "dif_rad=(pred_rad-y)\n",
        "fin_rad = time.time()\n"
      ]
    },
    {
      "cell_type": "markdown",
      "metadata": {
        "id": "VXll7FRXIeWk"
      },
      "source": [
        "###**Configuramos los modelos con las variables recomendadas por el Algoritmo genético**"
      ]
    },
    {
      "cell_type": "code",
      "execution_count": null,
      "metadata": {
        "id": "sw56AKx3IgL3"
      },
      "outputs": [],
      "source": [
        "# LLamamos nuevamente al conjuto de datos\n",
        "y=df[\"Class\"]\n",
        "y=np.array(y)\n",
        "x=df.drop(['Class'], axis=1)\n",
        "columnas_seleccionadas = [0, 2, 3, 4, 5]\n",
        "\n",
        "# Utiliza .iloc para seleccionar las columnas por índice\n",
        "x=x2[:, columnas_seleccionadas]\n",
        "a = np.array(x)\n",
        "\n",
        "# Escalamos los datos para poder trabajar con ellos\n",
        "scaler = MinMaxScaler()\n",
        "scaler.fit(x)\n",
        "x2=scaler.transform(x)\n",
        "\n",
        "# Creamos los modelos con cada uno de los Kernel seleccionados\n",
        "clf_lin_AG = SVC(kernel='linear', max_iter=-1)\n",
        "clf_poly_AG = SVC(kernel='poly', max_iter=-1)\n",
        "clf_rad_AG = SVC(kernel='rbf', max_iter=-1)\n",
        "clf_sig_AG = SVC(kernel='sigmoid', max_iter=-1)\n",
        "\n",
        "\n",
        "# Ajustamos los modelos con los datos seleccionados y hallamos las predicciones, así como las diferencias entre el ajuste del modelo y los valores reales\n",
        "inicio_lin_AG = time.time()\n",
        "clf_lin_AG.fit(x2, y)\n",
        "pred_lin_AG=clf_lin_AG.predict(x2)\n",
        "dif_lin_AG=(pred_lin_AG-y)\n",
        "fin_lin_AG = time.time()\n",
        "\n",
        "inicio_poly_AG = time.time()\n",
        "clf_poly_AG.fit(x2, y)\n",
        "pred_poly_AG=clf_poly_AG.predict(x2)\n",
        "dif_poly_AG=(pred_poly_AG-y)\n",
        "fin_poly_AG = time.time()\n",
        "\n",
        "inicio_rad_AG = time.time()\n",
        "clf_rad_AG.fit(x2, y)\n",
        "pred_rad_AG=clf_rad_AG.predict(x2)\n",
        "dif_rad_AG=(pred_rad_AG-y)\n",
        "fin_rad_AG = time.time()\n"
      ]
    },
    {
      "cell_type": "markdown",
      "source": [
        "###**Hallamos las medidas e imprimimos los resultados**\n"
      ],
      "metadata": {
        "id": "PzjVilHYYuJ-"
      }
    },
    {
      "cell_type": "code",
      "source": [
        "from scipy.stats import f_oneway\n",
        "from sklearn.metrics import accuracy_score\n",
        "from sklearn.metrics import roc_auc_score\n",
        "\n",
        "# Aplica la prueba F y valor AUC de la curva ROC\n",
        "\n",
        "f_statistic_lin, p_value_lin = f_oneway(pred_lin, y)\n",
        "roc_lin=roc_auc_score(pred_lin, y)\n",
        "acu_lin=accuracy_score(pred_lin, y)\n",
        "\n",
        "f_statistic_poly, p_value_poly = f_oneway(pred_poly, y)\n",
        "roc_poly=roc_auc_score(pred_poly, y)\n",
        "acu_poly=accuracy_score(pred_poly, y)\n",
        "\n",
        "f_statistic_rad, p_value_rad = f_oneway(pred_rad, y)\n",
        "roc_rad=roc_auc_score(pred_rad, y)\n",
        "acu_rad=accuracy_score(pred_rad, y)\n",
        "\n",
        "# Ahora con algoritmo genético\n",
        "\n",
        "f_statistic_lin_AG, p_value_lin_AG = f_oneway(pred_lin_AG, y)\n",
        "roc_lin_AG=roc_auc_score(pred_lin_AG, y)\n",
        "acu_lin_AG=accuracy_score(pred_lin_AG, y)\n",
        "\n",
        "f_statistic_poly_AG, p_value_poly_AG = f_oneway(pred_poly_AG, y)\n",
        "roc_poly_AG=roc_auc_score(pred_poly_AG, y)\n",
        "acu_poly_AG=accuracy_score(pred_poly_AG, y)\n",
        "\n",
        "f_statistic_rad_AG, p_value_rad_AG = f_oneway(pred_rad_AG, y)\n",
        "roc_rad_AG=roc_auc_score(pred_rad_AG, y)\n",
        "acu_rad_AG=accuracy_score(pred_rad_AG, y)\n",
        "\n",
        "#Imprimimos las precisiones y los tiempos\n",
        "print(\"La precisición del kernell lineal es \", round(acu_lin*100,3),\", el p-valor del estadístico F es\", round(p_value_lin,6), 'y el valor auc-roc es de', round(roc_lin,6),'en',round(fin_lin-inicio_lin,4),\"segundos \\n\")\n",
        "print(\"La precisición del kernell polinomial es \", round(acu_poly*100,3),\", el p-valor del estadístico F es\", round(p_value_poly,6), 'y el valor auc-roc es de', round(roc_poly,6),'en',round(fin_poly-inicio_poly,4),\"segundos \\n\")\n",
        "print(\"La precisición del kernell radial es \", round(acu_rad*100,3),\", el p-valor del estadístico F es\", round(p_value_rad,6), 'y el valor auc-roc es de', round(roc_rad,6),'en',round(fin_rad-inicio_rad,4),\"segundos \\n\")\n",
        "\n",
        "print(\"La precisición del kernell lineal con AG es \", round(acu_lin_AG*100,3),\", el p-valor del estadístico F es\", round(p_value_lin_AG,6), 'y el valor auc-roc es de', round(roc_lin_AG,6),'en',round(fin_lin_AG-inicio_lin_AG,4),\"segundos \\n\")\n",
        "print(\"La precisición del kernell polinomial con AG es \", round(acu_poly_AG*100,3),\", el p-valor del estadístico F es\", round(p_value_poly_AG,6), 'y el valor auc-roc es de', round(roc_poly_AG,6),'en',round(fin_poly_AG-inicio_poly_AG,4),\"segundos \\n\")\n",
        "print(\"La precisición del kernell radial con AG es \", round(acu_rad_AG*100,3),\", el p-valor del estadístico F es\", round(p_value_rad_AG,6), 'y el valor auc-roc es de', round(roc_rad_AG,6),'en',round(fin_rad_AG-inicio_rad_AG,4),\"segundos \\n\")\n"
      ],
      "metadata": {
        "colab": {
          "base_uri": "https://localhost:8080/"
        },
        "id": "ZjsUKcRyYz4N",
        "outputId": "566415c6-5a0e-45b6-a9d7-53ee48c2f09b"
      },
      "execution_count": null,
      "outputs": [
        {
          "output_type": "stream",
          "name": "stdout",
          "text": [
            "La precisición del kernell lineal es  99.999 , el p-valor del estadístico F es 0.996334 y el valor auc-roc es de 0.99999 en 7.961 segundos \n",
            "\n",
            "La precisición del kernell polinomial es  99.999 , el p-valor del estadístico F es 0.996334 y el valor auc-roc es de 0.999989 en 3.1581 segundos \n",
            "\n",
            "La precisición del kernell radial es  100.0 , el p-valor del estadístico F es 1.0 y el valor auc-roc es de 1.0 en 12.1645 segundos \n",
            "\n",
            "La precisición del kernell lineal con AG es  99.999 , el p-valor del estadístico F es 0.996334 y el valor auc-roc es de 0.99999 en 12.0625 segundos \n",
            "\n",
            "La precisición del kernell polinomial con AG es  99.999 , el p-valor del estadístico F es 0.996334 y el valor auc-roc es de 0.999989 en 1.8393 segundos \n",
            "\n",
            "La precisición del kernell radial con AG es  100.0 , el p-valor del estadístico F es 1.0 y el valor auc-roc es de 1.0 en 9.7297 segundos \n",
            "\n"
          ]
        }
      ]
    },
    {
      "cell_type": "markdown",
      "source": [
        "### **Gráficos asociados a las estadísticas de interés**"
      ],
      "metadata": {
        "id": "C9I5Zx6-ZAaq"
      }
    },
    {
      "cell_type": "code",
      "source": [
        "import matplotlib.pyplot as plt\n",
        "import numpy as np\n",
        "\n",
        "# Datos de ejemplo (reemplaza estos valores con los tuyos)\n",
        "categorias = ['Lin','Poly','Rad','Lin + AG','Poli + AG','Rad + AG']\n",
        "valores_1 = [acu_lin,acu_poly,acu_rad,acu_lin_AG,acu_poly_AG,acu_rad_AG]\n",
        "valores_2 = [p_value_lin,p_value_poly,p_value_rad,p_value_lin_AG,p_value_poly_AG,p_value_rad_AG]\n",
        "valores_3 = [roc_lin,roc_poly,roc_rad,roc_lin_AG,roc_poly_AG,roc_rad_AG]\n",
        "valores_4 = [fin_lin-inicio_lin,fin_poly-inicio_poly,fin_rad-inicio_rad,fin_lin_AG-inicio_lin_AG,fin_poly_AG-inicio_poly_AG, fin_rad_AG-inicio_rad_AG]\n",
        "\n",
        "# Crear cuatro subgráficos\n",
        "fig, axs = plt.subplots(2, 2, figsize=(15, 6))\n",
        "\n",
        "# Gráfico 1\n",
        "axs[0, 0].bar(categorias, valores_1)\n",
        "axs[0, 0].set_title('Precisión')\n",
        "\n",
        "# Gráfico 2\n",
        "axs[0, 1].bar(categorias, valores_2)\n",
        "axs[0, 1].set_title('p-valor F')\n",
        "\n",
        "# Gráfico 3\n",
        "axs[1, 0].bar(categorias, valores_3)\n",
        "axs[1, 0].set_title('ROC')\n",
        "\n",
        "# Gráfico 4\n",
        "axs[1, 1].bar(categorias, valores_4)\n",
        "axs[1, 1].set_title('Tiempo computacional')\n",
        "\n",
        "# Ajustar la disposición de los subgráficos\n",
        "plt.tight_layout()\n",
        "\n",
        "# Mostrar los gráficos\n",
        "plt.show()"
      ],
      "metadata": {
        "colab": {
          "base_uri": "https://localhost:8080/",
          "height": 577
        },
        "id": "YamunVl6ZILN",
        "outputId": "a6e1a496-b0bc-4838-dc22-2deccc64b225"
      },
      "execution_count": null,
      "outputs": [
        {
          "output_type": "display_data",
          "data": {
            "text/plain": [
              "<Figure size 1500x600 with 4 Axes>"
            ],
            "image/png": "[encoded data removed]"
          },
          "metadata": {}
        }
      ]
    },
    {
      "cell_type": "markdown",
      "source": [
        "## **Ensamblaje por bagging**"
      ],
      "metadata": {
        "id": "bl1Mar2Hat_X"
      }
    },
    {
      "cell_type": "markdown",
      "source": [
        "## **Creamos los modelos**"
      ],
      "metadata": {
        "id": "SOSskq-sa3_Y"
      }
    },
    {
      "cell_type": "code",
      "source": [
        "from sklearn.tree import DecisionTreeClassifier\n",
        "from sklearn.ensemble import BaggingClassifier, AdaBoostClassifier\n",
        "\n",
        "y=df[\"Class\"]\n",
        "y=np.array(y)\n",
        "x=df.drop(['Class'], axis=1)\n",
        "a = np.array(x)\n",
        "\n",
        "# Escalamos los datos para poder trabajar con ellos\n",
        "scaler = MinMaxScaler()\n",
        "scaler.fit(x)\n",
        "x=scaler.transform(x)\n",
        "\n",
        "\n",
        "# Divide los datos en conjuntos de entrenamiento y prueba\n",
        "x_train, x_test, y_train, y_test = train_test_split(x, y, test_size=0.2, random_state=42)\n",
        "\n",
        "# Ajustamos todos los modelos por bagging\n",
        "inicio_lin = time.time()\n",
        "bagging_model_li = BaggingClassifier(base_estimator=clf_lin, n_estimators=10, random_state=0)\n",
        "bagging_model_li.fit(x_train, y_train)\n",
        "pred_lin = bagging_model_li.predict(x)\n",
        "fin_lin = time.time()\n",
        "\n",
        "inicio_poly = time.time()\n",
        "bagging_model_poly = BaggingClassifier(base_estimator=clf_poly, n_estimators=10, random_state=0)\n",
        "bagging_model_poly.fit(x_train, y_train)\n",
        "pred_poly = bagging_model_poly.predict(x)\n",
        "fin_poly = time.time()\n",
        "\n",
        "inicio_rad = time.time()\n",
        "bagging_model_rad = BaggingClassifier(base_estimator=clf_rad, n_estimators=10, random_state=0)\n",
        "bagging_model_rad.fit(x_train, y_train)\n",
        "pred_rad = bagging_model_rad.predict(x)\n",
        "fin_rad = time.time()\n"
      ],
      "metadata": {
        "colab": {
          "base_uri": "https://localhost:8080/"
        },
        "id": "RpRfPquUas3z",
        "outputId": "8279c05a-3bcc-447b-ec17-57672cd7c441"
      },
      "execution_count": null,
      "outputs": [
        {
          "output_type": "stream",
          "name": "stderr",
          "text": [
            "/usr/local/lib/python3.10/dist-packages/sklearn/ensemble/_base.py:166: FutureWarning: `base_estimator` was renamed to `estimator` in version 1.2 and will be removed in 1.4.\n",
            "  warnings.warn(\n",
            "/usr/local/lib/python3.10/dist-packages/sklearn/ensemble/_base.py:166: FutureWarning: `base_estimator` was renamed to `estimator` in version 1.2 and will be removed in 1.4.\n",
            "  warnings.warn(\n",
            "/usr/local/lib/python3.10/dist-packages/sklearn/ensemble/_base.py:166: FutureWarning: `base_estimator` was renamed to `estimator` in version 1.2 and will be removed in 1.4.\n",
            "  warnings.warn(\n"
          ]
        }
      ]
    },
    {
      "cell_type": "markdown",
      "source": [
        "## **Ahora para el algoritmo genético**"
      ],
      "metadata": {
        "id": "NLqqtPvEbgKs"
      }
    },
    {
      "cell_type": "code",
      "source": [
        "# LLamamos nuevamente al conjuto de datos\n",
        "y=df[\"Class\"]\n",
        "y=np.array(y)\n",
        "x=df.drop(['Class'], axis=1)\n",
        "columnas_seleccionadas = [0, 2, 3, 4, 5]\n",
        "\n",
        "# Utiliza .iloc para seleccionar las columnas por índice\n",
        "x=x2\n",
        "a = np.array(x)\n",
        "\n",
        "\n",
        "# Escalamos los datos para poder trabajar con ellos\n",
        "scaler = MinMaxScaler()\n",
        "scaler.fit(x)\n",
        "x=scaler.transform(x)\n",
        "\n",
        "# Divide los datos en conjuntos de entrenamiento y prueba\n",
        "x_train, x_test, y_train, y_test = train_test_split(x, y, test_size=0.2, random_state=42)\n",
        "\n",
        "# Ajustamos todos los modelos por bagging\n",
        "inicio_lin_AG = time.time()\n",
        "bagging_model_li_AG = BaggingClassifier(base_estimator=clf_lin_AG, n_estimators=10, random_state=0)\n",
        "bagging_model_li_AG.fit(x_train, y_train)\n",
        "pred_lin_AG = bagging_model_li_AG.predict(x)\n",
        "fin_lin_AG = time.time()\n",
        "\n",
        "inicio_poly_AG = time.time()\n",
        "bagging_model_poly_AG = BaggingClassifier(base_estimator=clf_poly_AG, n_estimators=10, random_state=0)\n",
        "bagging_model_poly_AG.fit(x_train, y_train)\n",
        "pred_poly_AG = bagging_model_poly_AG.predict(x)\n",
        "fin_poly_AG = time.time()\n",
        "\n",
        "inicio_rad_AG = time.time()\n",
        "bagging_model_rad_AG = BaggingClassifier(base_estimator=clf_rad_AG, n_estimators=10, random_state=0)\n",
        "bagging_model_rad_AG.fit(x_train, y_train)\n",
        "pred_rad_AG = bagging_model_rad_AG.predict(x)\n",
        "fin_rad_AG = time.time()\n"
      ],
      "metadata": {
        "colab": {
          "base_uri": "https://localhost:8080/"
        },
        "id": "kC4CTb84bpRp",
        "outputId": "e184c5e1-fe51-4c77-ec22-694214cd5820"
      },
      "execution_count": null,
      "outputs": [
        {
          "output_type": "stream",
          "name": "stderr",
          "text": [
            "/usr/local/lib/python3.10/dist-packages/sklearn/ensemble/_base.py:166: FutureWarning: `base_estimator` was renamed to `estimator` in version 1.2 and will be removed in 1.4.\n",
            "  warnings.warn(\n",
            "/usr/local/lib/python3.10/dist-packages/sklearn/ensemble/_base.py:166: FutureWarning: `base_estimator` was renamed to `estimator` in version 1.2 and will be removed in 1.4.\n",
            "  warnings.warn(\n",
            "/usr/local/lib/python3.10/dist-packages/sklearn/ensemble/_base.py:166: FutureWarning: `base_estimator` was renamed to `estimator` in version 1.2 and will be removed in 1.4.\n",
            "  warnings.warn(\n"
          ]
        }
      ]
    },
    {
      "cell_type": "markdown",
      "source": [
        "### **Hallamos las medidas de interés**"
      ],
      "metadata": {
        "id": "5iTkrt14djng"
      }
    },
    {
      "cell_type": "code",
      "source": [
        "from scipy.stats import f_oneway\n",
        "from sklearn.metrics import accuracy_score\n",
        "from sklearn.metrics import roc_auc_score\n",
        "\n",
        "# Aplica la prueba F y valor AUC de la curva ROC\n",
        "\n",
        "f_statistic_lin, p_value_lin = f_oneway(pred_lin, y)\n",
        "roc_lin=roc_auc_score(pred_lin, y)\n",
        "acu_lin=accuracy_score(pred_lin, y)\n",
        "\n",
        "f_statistic_poly, p_value_poly = f_oneway(pred_poly, y)\n",
        "roc_poly=roc_auc_score(pred_poly, y)\n",
        "acu_poly=accuracy_score(pred_poly, y)\n",
        "\n",
        "f_statistic_rad, p_value_rad = f_oneway(pred_rad, y)\n",
        "roc_rad=roc_auc_score(pred_rad, y)\n",
        "acu_rad=accuracy_score(pred_rad, y)\n",
        "\n",
        "\n",
        "# Ahora con algoritmo genético\n",
        "\n",
        "f_statistic_lin_AG, p_value_lin_AG = f_oneway(pred_lin_AG, y)\n",
        "roc_lin_AG=roc_auc_score(pred_lin_AG, y)\n",
        "acu_lin_AG=accuracy_score(pred_lin_AG, y)\n",
        "\n",
        "f_statistic_poly_AG, p_value_poly_AG = f_oneway(pred_poly_AG, y)\n",
        "roc_poly_AG=roc_auc_score(pred_poly_AG, y)\n",
        "acu_poly_AG=accuracy_score(pred_poly_AG, y)\n",
        "\n",
        "f_statistic_rad_AG, p_value_rad_AG = f_oneway(pred_rad_AG, y)\n",
        "roc_rad_AG=roc_auc_score(pred_rad_AG, y)\n",
        "acu_rad_AG=accuracy_score(pred_rad_AG, y)\n",
        "\n",
        "\n",
        "#Imprimimos las precisiones y los tiempos\n",
        "print(\"La precisición del kernell lineal es \", round(acu_lin*100,3),\", el p-valor del estadístico F es\", round(p_value_lin,6), 'y el valor auc-roc es de', round(roc_lin,6),'en',round(fin_lin-inicio_lin,4),\"segundos \\n\")\n",
        "print(\"La precisición del kernell polinomial es \", round(acu_poly*100,3),\", el p-valor del estadístico F es\", round(p_value_poly,6), 'y el valor auc-roc es de', round(roc_poly,6),'en',round(fin_poly-inicio_poly,4),\"segundos \\n\")\n",
        "print(\"La precisición del kernell radial es \", round(acu_rad*100,3),\", el p-valor del estadístico F es\", round(p_value_rad,6), 'y el valor auc-roc es de', round(roc_rad,6),'en',round(fin_rad-inicio_rad,4),\"segundos \\n\")\n",
        "\n",
        "print(\"La precisición del kernell lineal con AG es \", round(acu_lin_AG*100,3),\", el p-valor del estadístico F es\", round(p_value_lin_AG,6), 'y el valor auc-roc es de', round(roc_lin_AG,6),'en',round(fin_lin_AG-inicio_lin_AG,4),\"segundos \\n\")\n",
        "print(\"La precisición del kernell polinomial con AG es \", round(acu_poly_AG*100,3),\", el p-valor del estadístico F es\", round(p_value_poly_AG,6), 'y el valor auc-roc es de', round(roc_poly_AG,6),'en',round(fin_poly_AG-inicio_poly_AG,4),\"segundos \\n\")\n",
        "print(\"La precisición del kernell radial con AG es \", round(acu_rad_AG*100,3),\", el p-valor del estadístico F es\", round(p_value_rad_AG,6), 'y el valor auc-roc es de', round(roc_rad_AG,6),'en',round(fin_rad_AG-inicio_rad_AG,4),\"segundos \\n\")\n"
      ],
      "metadata": {
        "colab": {
          "base_uri": "https://localhost:8080/"
        },
        "id": "4PH-wQWdeA6U",
        "outputId": "60c7bdf3-2ad4-4198-acff-5babd94eec83"
      },
      "execution_count": null,
      "outputs": [
        {
          "output_type": "stream",
          "name": "stdout",
          "text": [
            "La precisición del kernell lineal es  99.999 , el p-valor del estadístico F es 0.996334 y el valor auc-roc es de 0.99999 en 50.0861 segundos \n",
            "\n",
            "La precisición del kernell polinomial es  99.999 , el p-valor del estadístico F es 0.996334 y el valor auc-roc es de 0.999989 en 12.2727 segundos \n",
            "\n",
            "La precisición del kernell radial es  100.0 , el p-valor del estadístico F es 1.0 y el valor auc-roc es de 1.0 en 55.5309 segundos \n",
            "\n",
            "La precisición del kernell lineal con AG es  100.0 , el p-valor del estadístico F es 1.0 y el valor auc-roc es de 1.0 en 30.5515 segundos \n",
            "\n",
            "La precisición del kernell polinomial con AG es  99.999 , el p-valor del estadístico F es 0.996334 y el valor auc-roc es de 0.999989 en 9.5193 segundos \n",
            "\n",
            "La precisición del kernell radial con AG es  100.0 , el p-valor del estadístico F es 1.0 y el valor auc-roc es de 1.0 en 46.6322 segundos \n",
            "\n"
          ]
        }
      ]
    },
    {
      "cell_type": "markdown",
      "source": [
        "### **Graficamos los resultados**"
      ],
      "metadata": {
        "id": "r3-YkJmueVPL"
      }
    },
    {
      "cell_type": "code",
      "source": [
        "import matplotlib.pyplot as plt\n",
        "import numpy as np\n",
        "\n",
        "# Datos de ejemplo (reemplaza estos valores con los tuyos)\n",
        "categorias = ['Lin','Poly','Rad','Lin + AG','Poli + AG','Rad + AG']\n",
        "valores_1 = [acu_lin,acu_poly,acu_rad,acu_lin_AG,acu_poly_AG,acu_rad_AG]\n",
        "valores_2 = [p_value_lin,p_value_poly,p_value_rad,p_value_lin_AG,p_value_poly_AG,p_value_rad_AG]\n",
        "valores_3 = [roc_lin,roc_poly,roc_rad,roc_lin_AG,roc_poly_AG,roc_rad_AG]\n",
        "valores_4 = [fin_lin-inicio_lin,fin_poly-inicio_poly,fin_rad-inicio_rad,fin_lin_AG-inicio_lin_AG,fin_poly_AG-inicio_poly_AG, fin_rad_AG-inicio_rad_AG]\n",
        "\n",
        "# Crear cuatro subgráficos\n",
        "fig, axs = plt.subplots(2, 2, figsize=(15, 6))\n",
        "\n",
        "# Gráfico 1\n",
        "axs[0, 0].bar(categorias, valores_1)\n",
        "axs[0, 0].set_title('Precisión')\n",
        "\n",
        "# Gráfico 2\n",
        "axs[0, 1].bar(categorias, valores_2)\n",
        "axs[0, 1].set_title('p-valor F')\n",
        "\n",
        "# Gráfico 3\n",
        "axs[1, 0].bar(categorias, valores_3)\n",
        "axs[1, 0].set_title('ROC')\n",
        "\n",
        "# Gráfico 4\n",
        "axs[1, 1].bar(categorias, valores_4)\n",
        "axs[1, 1].set_title('Tiempo computacional')\n",
        "\n",
        "# Ajustar la disposición de los subgráficos\n",
        "plt.tight_layout()\n",
        "\n",
        "# Mostrar los gráficos\n",
        "plt.show()"
      ],
      "metadata": {
        "colab": {
          "base_uri": "https://localhost:8080/",
          "height": 577
        },
        "id": "eAHDSdgtegtW",
        "outputId": "4d1fd6b5-3465-44ce-a3bc-e0c808275e1f"
      },
      "execution_count": null,
      "outputs": [
        {
          "output_type": "display_data",
          "data": {
            "text/plain": [
              "<Figure size 1500x600 with 4 Axes>"
            ],
            "image/png": "[encoded data removed]"
          },
          "metadata": {}
        }
      ]
    },
    {
      "cell_type": "markdown",
      "source": [
        "## **Ensamblaje por boosting**"
      ],
      "metadata": {
        "id": "H_UgSAYGfzCI"
      }
    },
    {
      "cell_type": "markdown",
      "source": [
        "### **Creamos los modelos**"
      ],
      "metadata": {
        "id": "JzrXLFQjgEtZ"
      }
    },
    {
      "cell_type": "code",
      "source": [
        "from sklearn.tree import DecisionTreeClassifier\n",
        "from sklearn.ensemble import BaggingClassifier, AdaBoostClassifier\n",
        "\n",
        "y=df[\"Class\"]\n",
        "y=np.array(y)\n",
        "x=df.drop(['Class'], axis=1)\n",
        "a = np.array(x)\n",
        "\n",
        "# Escalamos los datos para poder trabajar con ellos\n",
        "scaler = MinMaxScaler()\n",
        "scaler.fit(x)\n",
        "x=scaler.transform(x)\n",
        "\n",
        "\n",
        "# Divide los datos en conjuntos de entrenamiento y prueba\n",
        "x_train, x_test, y_train, y_test = train_test_split(x, y, test_size=0.2, random_state=42)\n",
        "\n",
        "# Ajustamos todos los modelos por bagging\n",
        "inicio_lin = time.time()\n",
        "adaboost_model_li = AdaBoostClassifier(estimator=clf_lin, random_state=0, algorithm=\"SAMME\", n_estimators=2, learning_rate=2)\n",
        "adaboost_model_li.fit(x_train, y_train)\n",
        "pred_lin = adaboost_model_li.predict(x)\n",
        "fin_lin = time.time()\n",
        "\n",
        "inicio_poly = time.time()\n",
        "adaboost_model_poly = AdaBoostClassifier(estimator=clf_poly, random_state=0, algorithm=\"SAMME\", n_estimators=2, learning_rate=2)\n",
        "adaboost_model_poly.fit(x_train, y_train)\n",
        "pred_poly = adaboost_model_poly.predict(x)\n",
        "fin_poly = time.time()\n",
        "\n",
        "inicio_rad = time.time()\n",
        "adaboost_model_rad = AdaBoostClassifier(estimator=clf_rad, random_state=0, algorithm=\"SAMME\", n_estimators=2, learning_rate=2)\n",
        "adaboost_model_rad.fit(x_train, y_train)\n",
        "pred_rad = adaboost_model_rad.predict(x)\n",
        "fin_rad = time.time()"
      ],
      "metadata": {
        "id": "TkYxpb12gOrT"
      },
      "execution_count": null,
      "outputs": []
    },
    {
      "cell_type": "markdown",
      "source": [
        "### **Ahora utilizando el algoritmo genético**"
      ],
      "metadata": {
        "id": "Z2Z4Bd7AhPx3"
      }
    },
    {
      "cell_type": "code",
      "source": [
        "# LLamamos nuevamente al conjuto de datos\n",
        "y=df[\"Class\"]\n",
        "y=np.array(y)\n",
        "x=df.drop(['Class'], axis=1)\n",
        "\n",
        "# Utiliza .iloc para seleccionar las columnas por índice\n",
        "x=x2\n",
        "a = np.array(x)\n",
        "\n",
        "\n",
        "# Escalamos los datos para poder trabajar con ellos\n",
        "scaler = MinMaxScaler()\n",
        "scaler.fit(x)\n",
        "x=scaler.transform(x)\n",
        "\n",
        "\n",
        "# Divide los datos en conjuntos de entrenamiento y prueba\n",
        "x_train, x_test, y_train, y_test = train_test_split(x, y, test_size=0.2, random_state=42)\n",
        "\n",
        "# Ajustamos todos los modelos por boosting\n",
        "inicio_lin_AG = time.time()\n",
        "adaboost_model_li_AG = AdaBoostClassifier(estimator=clf_lin_AG, random_state=0, algorithm=\"SAMME\", n_estimators=2, learning_rate=2)\n",
        "adaboost_model_li_AG.fit(x_train, y_train)\n",
        "pred_lin_AG = adaboost_model_li_AG.predict(x)\n",
        "fin_lin_AG = time.time()\n",
        "\n",
        "inicio_poly_AG = time.time()\n",
        "adaboost_model_poly_AG = AdaBoostClassifier(estimator=clf_poly_AG, random_state=0, algorithm=\"SAMME\", n_estimators=2, learning_rate=2)\n",
        "adaboost_model_poly_AG.fit(x_train, y_train)\n",
        "pred_poly_AG = adaboost_model_poly_AG.predict(x)\n",
        "fin_poly_AG = time.time()\n",
        "\n",
        "inicio_rad_AG = time.time()\n",
        "adaboost_model_rad_AG = AdaBoostClassifier(estimator=clf_rad_AG, random_state=0, algorithm=\"SAMME\", n_estimators=2, learning_rate=2)\n",
        "adaboost_model_rad_AG.fit(x_train, y_train)\n",
        "pred_rad_AG = adaboost_model_rad_AG.predict(x)\n",
        "fin_rad_AG = time.time()"
      ],
      "metadata": {
        "id": "mIwstEh8hZUS"
      },
      "execution_count": null,
      "outputs": []
    },
    {
      "cell_type": "markdown",
      "source": [
        "### **Hallamos las medidas de interés**"
      ],
      "metadata": {
        "id": "el-PnumCi1je"
      }
    },
    {
      "cell_type": "code",
      "source": [
        "from scipy.stats import f_oneway\n",
        "from sklearn.metrics import accuracy_score\n",
        "from sklearn.metrics import roc_auc_score\n",
        "\n",
        "# Aplica la prueba F y valor AUC de la curva ROC\n",
        "\n",
        "f_statistic_lin, p_value_lin = f_oneway(pred_lin, y)\n",
        "roc_lin=roc_auc_score(y,pred_lin)\n",
        "acu_lin=accuracy_score(pred_lin, y)\n",
        "\n",
        "f_statistic_poly, p_value_poly = f_oneway(pred_poly, y)\n",
        "roc_poly=roc_auc_score(pred_poly, y)\n",
        "acu_poly=accuracy_score(pred_poly, y)\n",
        "\n",
        "f_statistic_rad, p_value_rad = f_oneway(pred_rad, y)\n",
        "roc_rad=roc_auc_score(y,pred_lin)\n",
        "acu_rad=accuracy_score(pred_rad, y)\n",
        "\n",
        "\n",
        "# Ahora con algoritmo genético\n",
        "\n",
        "f_statistic_lin_AG, p_value_lin_AG = f_oneway(pred_lin_AG, y)\n",
        "roc_lin_AG=roc_auc_score(y,pred_lin)\n",
        "acu_lin_AG=accuracy_score(pred_lin_AG, y)\n",
        "\n",
        "f_statistic_poly_AG, p_value_poly_AG = f_oneway(pred_poly_AG, y)\n",
        "roc_poly_AG=roc_auc_score(pred_poly_AG, y)\n",
        "acu_poly_AG=accuracy_score(pred_poly_AG, y)\n",
        "\n",
        "f_statistic_rad_AG, p_value_rad_AG = f_oneway(pred_rad_AG, y)\n",
        "roc_rad_AG=roc_auc_score(y,pred_lin)\n",
        "acu_rad_AG=accuracy_score(pred_rad_AG, y)\n",
        "\n",
        "\n",
        "#Imprimimos las precisiones y los tiempos\n",
        "print(\"La precisición del kernell lineal es \", round(acu_lin*100,3),\", el p-valor del estadístico F es\", round(p_value_lin,6), 'y el valor auc-roc es de', round(roc_lin,6),'en',round(fin_lin-inicio_lin,4),\"segundos \\n\")\n",
        "print(\"La precisición del kernell polinomial es \", round(acu_poly*100,3),\", el p-valor del estadístico F es\", round(p_value_poly,6), 'y el valor auc-roc es de', round(roc_poly,6),'en',round(fin_poly-inicio_poly,4),\"segundos \\n\")\n",
        "print(\"La precisición del kernell radial es \", round(acu_rad*100,3),\", el p-valor del estadístico F es\", round(p_value_rad,6), 'y el valor auc-roc es de', round(roc_rad,6),'en',round(fin_rad-inicio_rad,4),\"segundos \\n\")\n",
        "\n",
        "print(\"La precisición del kernell lineal con AG es \", round(acu_lin_AG*100,3),\", el p-valor del estadístico F es\", round(p_value_lin_AG,6), 'y el valor auc-roc es de', round(roc_lin_AG,6),'en',round(fin_lin_AG-inicio_lin_AG,4),\"segundos \\n\")\n",
        "print(\"La precisición del kernell polinomial con AG es \", round(acu_poly_AG*100,3),\", el p-valor del estadístico F es\", round(p_value_poly_AG,6), 'y el valor auc-roc es de', round(roc_poly_AG,6),'en',round(fin_poly_AG-inicio_poly_AG,4),\"segundos \\n\")\n",
        "print(\"La precisición del kernell radial con AG es \", round(acu_rad_AG*100,3),\", el p-valor del estadístico F es\", round(p_value_rad_AG,6), 'y el valor auc-roc es de', round(roc_rad_AG,6),'en',round(fin_rad_AG-inicio_rad_AG,4),\"segundos \\n\")\n"
      ],
      "metadata": {
        "colab": {
          "base_uri": "https://localhost:8080/"
        },
        "id": "KRQDNZyZ_mbU",
        "outputId": "f7898521-b1fb-4451-b251-e56589ab742b"
      },
      "execution_count": null,
      "outputs": [
        {
          "output_type": "stream",
          "name": "stdout",
          "text": [
            "La precisición del kernell lineal es  49.347 , el p-valor del estadístico F es 0.0 y el valor auc-roc es de 0.5 en 1309.2079 segundos \n",
            "\n",
            "La precisición del kernell polinomial es  53.275 , el p-valor del estadístico F es 0.0 y el valor auc-roc es de 0.709602 en 1033.4875 segundos \n",
            "\n",
            "La precisición del kernell radial es  49.347 , el p-valor del estadístico F es 0.0 y el valor auc-roc es de 0.5 en 2464.4136 segundos \n",
            "\n",
            "La precisición del kernell lineal con AG es  49.347 , el p-valor del estadístico F es 0.0 y el valor auc-roc es de 0.5 en 1185.3267 segundos \n",
            "\n",
            "La precisición del kernell polinomial con AG es  51.952 , el p-valor del estadístico F es 0.0 y el valor auc-roc es de 0.612466 en 928.096 segundos \n",
            "\n",
            "La precisición del kernell radial con AG es  49.347 , el p-valor del estadístico F es 0.0 y el valor auc-roc es de 0.5 en 2249.7098 segundos \n",
            "\n"
          ]
        }
      ]
    },
    {
      "cell_type": "markdown",
      "source": [
        "### **Graficamos los resultados**"
      ],
      "metadata": {
        "id": "JpxagkSd_npb"
      }
    },
    {
      "cell_type": "code",
      "source": [
        "import matplotlib.pyplot as plt\n",
        "import numpy as np\n",
        "\n",
        "# Datos de ejemplo (reemplaza estos valores con los tuyos)\n",
        "categorias = ['Lin','Poly','Rad','Lin + AG','Poli + AG','Rad + AG']\n",
        "valores_1 = [acu_lin,acu_poly,acu_rad,acu_lin_AG,acu_poly_AG,acu_rad_AG]\n",
        "valores_2 = [p_value_lin,p_value_poly,p_value_rad,p_value_lin_AG,p_value_poly_AG,p_value_rad_AG]\n",
        "valores_3 = [roc_lin,roc_poly,roc_rad,roc_lin_AG,roc_poly_AG,roc_rad_AG]\n",
        "valores_4 = [fin_lin-inicio_lin,fin_poly-inicio_poly,fin_rad-inicio_rad,fin_lin_AG-inicio_lin_AG,fin_poly_AG-inicio_poly_AG, fin_rad_AG-inicio_rad_AG]\n",
        "\n",
        "# Crear cuatro subgráficos\n",
        "fig, axs = plt.subplots(2, 2, figsize=(15, 6))\n",
        "\n",
        "# Gráfico 1\n",
        "axs[0, 0].bar(categorias, valores_1)\n",
        "axs[0, 0].set_title('Precisión')\n",
        "\n",
        "# Gráfico 2\n",
        "axs[0, 1].bar(categorias, valores_2)\n",
        "axs[0, 1].set_title('p-valor F')\n",
        "\n",
        "# Gráfico 3\n",
        "axs[1, 0].bar(categorias, valores_3)\n",
        "axs[1, 0].set_title('ROC')\n",
        "\n",
        "# Gráfico 4\n",
        "axs[1, 1].bar(categorias, valores_4)\n",
        "axs[1, 1].set_title('Tiempo computacional')\n",
        "\n",
        "# Ajustar la disposición de los subgráficos\n",
        "plt.tight_layout()\n",
        "\n",
        "# Mostrar los gráficos\n",
        "plt.show()"
      ],
      "metadata": {
        "colab": {
          "base_uri": "https://localhost:8080/",
          "height": 577
        },
        "id": "-J0eLGh9BH3I",
        "outputId": "5a684bf3-8563-48bf-c7c6-95736a3a172f"
      },
      "execution_count": null,
      "outputs": [
        {
          "output_type": "display_data",
          "data": {
            "text/plain": [
              "<Figure size 1500x600 with 4 Axes>"
            ],
            "image/png": "[encoded data removed]"
          },
          "metadata": {}
        }
      ]
    }
  ],
  "metadata": {
    "colab": {
      "provenance": [],
      "toc_visible": true
    },
    "kernelspec": {
      "display_name": "Python 3",
      "name": "python3"
    },
    "language_info": {
      "name": "python"
    }
  },
  "nbformat": 4,
  "nbformat_minor": 0
}